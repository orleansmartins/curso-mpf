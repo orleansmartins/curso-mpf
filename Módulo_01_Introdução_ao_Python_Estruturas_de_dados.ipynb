{
  "nbformat": 4,
  "nbformat_minor": 0,
  "metadata": {
    "colab": {
      "provenance": [],
      "include_colab_link": true
    },
    "kernelspec": {
      "name": "python3",
      "display_name": "Python 3"
    },
    "language_info": {
      "name": "python"
    }
  },
  "cells": [
    {
      "cell_type": "markdown",
      "metadata": {
        "id": "view-in-github",
        "colab_type": "text"
      },
      "source": [
        "<a href=\"https://colab.research.google.com/github/orleansmartins/curso-pmf/blob/main/M%C3%B3dulo_01_Introdu%C3%A7%C3%A3o_ao_Python_Estruturas_de_dados.ipynb\" target=\"_parent\"><img src=\"https://colab.research.google.com/assets/colab-badge.svg\" alt=\"Open In Colab\"/></a>"
      ]
    },
    {
      "cell_type": "markdown",
      "source": [
        "<center><img src = \"https://github.com/Trading-com-Dados/pmf/blob/main/logotipo-trading-com-dados.svg?raw=true\" width = \"200\">"
      ],
      "metadata": {
        "id": "LhC1zhTvkPk_"
      }
    },
    {
      "cell_type": "markdown",
      "source": [
        "<center><img src = \"https://github.com/Trading-com-Dados/pmf/blob/main/PMF%20002.png?raw=true\" width = \"700\">"
      ],
      "metadata": {
        "id": "2nM6YF8pimKI"
      }
    },
    {
      "cell_type": "markdown",
      "source": [
        "# **Python para Mercado Financeiro**"
      ],
      "metadata": {
        "id": "M-VdkjxzgPJz"
      }
    },
    {
      "cell_type": "markdown",
      "source": [
        "# Módulo 01 - Introdução ao Python"
      ],
      "metadata": {
        "id": "m3cIuk6ZgU_I"
      }
    },
    {
      "cell_type": "markdown",
      "source": [
        "No formato de notebook, nós alternamos entre código e markdown (texto, imagens)"
      ],
      "metadata": {
        "id": "ny2VAFgmgjBB"
      }
    },
    {
      "cell_type": "markdown",
      "source": [
        "# 5. Listas"
      ],
      "metadata": {
        "id": "OKva_7mT5biY"
      }
    },
    {
      "cell_type": "code",
      "source": [
        "numeros = [1, 2, 3]"
      ],
      "metadata": {
        "id": "CDIpEWLz9ztb"
      },
      "execution_count": null,
      "outputs": []
    },
    {
      "cell_type": "code",
      "source": [
        "numeros"
      ],
      "metadata": {
        "colab": {
          "base_uri": "https://localhost:8080/"
        },
        "id": "6XcrzrSN-QuE",
        "outputId": "2c3a4378-a37a-40f2-f59f-f31d56fbb747"
      },
      "execution_count": null,
      "outputs": [
        {
          "output_type": "execute_result",
          "data": {
            "text/plain": [
              "[1, 2, 3]"
            ]
          },
          "metadata": {},
          "execution_count": 2
        }
      ]
    },
    {
      "cell_type": "code",
      "source": [
        "type(numeros)"
      ],
      "metadata": {
        "colab": {
          "base_uri": "https://localhost:8080/"
        },
        "id": "5czYDdgy-cTc",
        "outputId": "c2e6fcda-abff-42ac-e27f-2618305182f2"
      },
      "execution_count": null,
      "outputs": [
        {
          "output_type": "execute_result",
          "data": {
            "text/plain": [
              "list"
            ]
          },
          "metadata": {},
          "execution_count": 3
        }
      ]
    },
    {
      "cell_type": "code",
      "source": [
        "[1,2,3]"
      ],
      "metadata": {
        "id": "8oT6l_Yk-y6T",
        "colab": {
          "base_uri": "https://localhost:8080/"
        },
        "outputId": "0f1725c4-2ee3-4fb5-9314-7b6ff6f79e8e"
      },
      "execution_count": null,
      "outputs": [
        {
          "output_type": "execute_result",
          "data": {
            "text/plain": [
              "[1, 2, 3]"
            ]
          },
          "metadata": {},
          "execution_count": 4
        }
      ]
    },
    {
      "cell_type": "code",
      "source": [
        "list([1,2,3])"
      ],
      "metadata": {
        "colab": {
          "base_uri": "https://localhost:8080/"
        },
        "id": "UzyhlRfP-icq",
        "outputId": "4a6b6ab0-1414-44bb-aac5-47258972d295"
      },
      "execution_count": null,
      "outputs": [
        {
          "output_type": "execute_result",
          "data": {
            "text/plain": [
              "[1, 2, 3]"
            ]
          },
          "metadata": {},
          "execution_count": 5
        }
      ]
    },
    {
      "cell_type": "code",
      "source": [
        "mix = [1, 2, 3.14, 'IBOV', True, False]"
      ],
      "metadata": {
        "id": "JWQH31xd-sLC"
      },
      "execution_count": null,
      "outputs": []
    },
    {
      "cell_type": "code",
      "source": [
        "mix"
      ],
      "metadata": {
        "colab": {
          "base_uri": "https://localhost:8080/"
        },
        "id": "EYu4sPdq_-RH",
        "outputId": "e5c5f7b1-a58a-4000-be3e-fe0022ee0785"
      },
      "execution_count": null,
      "outputs": [
        {
          "output_type": "execute_result",
          "data": {
            "text/plain": [
              "[1, 2, 3.14, 'IBOV', True, False]"
            ]
          },
          "metadata": {},
          "execution_count": 7
        }
      ]
    },
    {
      "cell_type": "code",
      "source": [
        "acoes = ['VALE3', 'PETR4', 'WEGE3', 'MGLU3', 'ITUB4']"
      ],
      "metadata": {
        "id": "bku4_jtq__Nr"
      },
      "execution_count": null,
      "outputs": []
    },
    {
      "cell_type": "code",
      "source": [
        "acoes"
      ],
      "metadata": {
        "colab": {
          "base_uri": "https://localhost:8080/"
        },
        "id": "QFvfUsrdALUz",
        "outputId": "fc4f206c-b1b1-4eba-8b6e-32b89c0a4276"
      },
      "execution_count": null,
      "outputs": [
        {
          "output_type": "execute_result",
          "data": {
            "text/plain": [
              "['VALE3', 'PETR4', 'WEGE3', 'MGLU3', 'ITUB4']"
            ]
          },
          "metadata": {},
          "execution_count": 9
        }
      ]
    },
    {
      "cell_type": "markdown",
      "source": [
        "Nas listas, também podemos realizar o **indexing**"
      ],
      "metadata": {
        "id": "glTs9Lu9AL57"
      }
    },
    {
      "cell_type": "code",
      "source": [
        "acoes[0]"
      ],
      "metadata": {
        "colab": {
          "base_uri": "https://localhost:8080/"
        },
        "id": "1m9cmfXcAUIE",
        "outputId": "4a5b2834-1e9f-4827-c990-75bfedbb6aa2"
      },
      "execution_count": null,
      "outputs": [
        {
          "output_type": "execute_result",
          "data": {
            "text/plain": [
              "'VALE3'"
            ],
            "application/vnd.google.colaboratory.intrinsic+json": {
              "type": "string"
            }
          },
          "metadata": {},
          "execution_count": 10
        }
      ]
    },
    {
      "cell_type": "code",
      "source": [
        "acoes[1]"
      ],
      "metadata": {
        "colab": {
          "base_uri": "https://localhost:8080/"
        },
        "id": "hVubIHdTAZEL",
        "outputId": "7ec50e94-5d6b-4bf2-c52a-9954ced9a85f"
      },
      "execution_count": null,
      "outputs": [
        {
          "output_type": "execute_result",
          "data": {
            "text/plain": [
              "'PETR4'"
            ],
            "application/vnd.google.colaboratory.intrinsic+json": {
              "type": "string"
            }
          },
          "metadata": {},
          "execution_count": 11
        }
      ]
    },
    {
      "cell_type": "code",
      "source": [
        "acoes[-1]"
      ],
      "metadata": {
        "colab": {
          "base_uri": "https://localhost:8080/"
        },
        "id": "8Kw1jwOLAayD",
        "outputId": "313172f5-8128-4f06-9d9a-abfd2f7eb3da"
      },
      "execution_count": null,
      "outputs": [
        {
          "output_type": "execute_result",
          "data": {
            "text/plain": [
              "'ITUB4'"
            ],
            "application/vnd.google.colaboratory.intrinsic+json": {
              "type": "string"
            }
          },
          "metadata": {},
          "execution_count": 12
        }
      ]
    },
    {
      "cell_type": "code",
      "source": [
        "type(acoes[-1])"
      ],
      "metadata": {
        "colab": {
          "base_uri": "https://localhost:8080/"
        },
        "id": "OQtiVetLAk0S",
        "outputId": "4ea38cb6-febd-4344-80c3-7e3f8776d44c"
      },
      "execution_count": null,
      "outputs": [
        {
          "output_type": "execute_result",
          "data": {
            "text/plain": [
              "str"
            ]
          },
          "metadata": {},
          "execution_count": 13
        }
      ]
    },
    {
      "cell_type": "markdown",
      "source": [
        "Crie uma frase contendo as ações nas posições 2 e 3 acoes\n",
        "\n",
        "\"Hoje, eu comprei para a minha carteira, as ações \""
      ],
      "metadata": {
        "id": "1b-pdHkEAwh6"
      }
    },
    {
      "cell_type": "code",
      "source": [
        "\"Hoje, eu comprei para a minha carteira, as ações \" + acoes[2] + \" e \" + acoes[3]"
      ],
      "metadata": {
        "colab": {
          "base_uri": "https://localhost:8080/"
        },
        "id": "nqfVb5xUA8hr",
        "outputId": "9f01f8cf-26ba-49f0-92fb-7c99e7b9113e"
      },
      "execution_count": null,
      "outputs": [
        {
          "output_type": "execute_result",
          "data": {
            "text/plain": [
              "'Hoje, eu comprei para a minha carteira, as ações WEGE3 e MGLU3'"
            ],
            "application/vnd.google.colaboratory.intrinsic+json": {
              "type": "string"
            }
          },
          "metadata": {},
          "execution_count": 14
        }
      ]
    },
    {
      "cell_type": "code",
      "source": [
        "precos = [30.84, 23.45, 38.83, 2.67, 89.78]"
      ],
      "metadata": {
        "id": "tXXbeO96BGew"
      },
      "execution_count": null,
      "outputs": []
    },
    {
      "cell_type": "markdown",
      "source": [
        "O comando a seguir resultará em erro, pois estamos tentando concatenar \"str\" com \"float\""
      ],
      "metadata": {
        "id": "ctdRVARMCGNS"
      }
    },
    {
      "cell_type": "code",
      "source": [
        "\"Hoje, eu comprei para a minha carteira, as ações \" + acoes[2] + \" e \" + acoes[3] + \", cujos preços no momento da compra eram \" + precos[2] + \" e \" + precos[3] +\", respectivamente.\""
      ],
      "metadata": {
        "colab": {
          "base_uri": "https://localhost:8080/"
        },
        "id": "PuhMdo46BiuR",
        "outputId": "b58f8247-fb70-4589-a5e3-f141fcf152dd"
      },
      "execution_count": null,
      "outputs": [
        {
          "output_type": "error",
          "ename": "TypeError",
          "evalue": "ignored",
          "traceback": [
            "\u001b[0;31m---------------------------------------------------------------------------\u001b[0m",
            "\u001b[0;31mTypeError\u001b[0m                                 Traceback (most recent call last)",
            "\u001b[0;32m<ipython-input-17-f1bb6fdb4655>\u001b[0m in \u001b[0;36m<module>\u001b[0;34m\u001b[0m\n\u001b[0;32m----> 1\u001b[0;31m \u001b[0;34m\"Hoje, eu comprei para a minha carteira, as ações \"\u001b[0m \u001b[0;34m+\u001b[0m \u001b[0macoes\u001b[0m\u001b[0;34m[\u001b[0m\u001b[0;36m2\u001b[0m\u001b[0;34m]\u001b[0m \u001b[0;34m+\u001b[0m \u001b[0;34m\" e \"\u001b[0m \u001b[0;34m+\u001b[0m \u001b[0macoes\u001b[0m\u001b[0;34m[\u001b[0m\u001b[0;36m3\u001b[0m\u001b[0;34m]\u001b[0m \u001b[0;34m+\u001b[0m \u001b[0;34m\", cujos preços no momento da compra eram \"\u001b[0m \u001b[0;34m+\u001b[0m \u001b[0mprecos\u001b[0m\u001b[0;34m[\u001b[0m\u001b[0;36m2\u001b[0m\u001b[0;34m]\u001b[0m \u001b[0;34m+\u001b[0m \u001b[0;34m\" e \"\u001b[0m \u001b[0;34m+\u001b[0m \u001b[0mprecos\u001b[0m\u001b[0;34m[\u001b[0m\u001b[0;36m3\u001b[0m\u001b[0;34m]\u001b[0m \u001b[0;34m+\u001b[0m\u001b[0;34m\", respectivamente.\"\u001b[0m\u001b[0;34m\u001b[0m\u001b[0;34m\u001b[0m\u001b[0m\n\u001b[0m",
            "\u001b[0;31mTypeError\u001b[0m: can only concatenate str (not \"float\") to str"
          ]
        }
      ]
    },
    {
      "cell_type": "markdown",
      "source": [
        "Podemos resolver este problema de duas maneiras:"
      ],
      "metadata": {
        "id": "5t3aBQ0KC5N6"
      }
    },
    {
      "cell_type": "markdown",
      "source": [
        "1. Passando todos os elementos para o formato str"
      ],
      "metadata": {
        "id": "fAuna47cC8GC"
      }
    },
    {
      "cell_type": "code",
      "source": [
        "precos_str = ['30.84', '23.45', '38.83', '2.67', '89.78']"
      ],
      "metadata": {
        "id": "8k5EKX_vB2fg"
      },
      "execution_count": null,
      "outputs": []
    },
    {
      "cell_type": "code",
      "source": [
        "\"Hoje, eu comprei para a minha carteira, as ações \" + acoes[2] + \" e \" + acoes[3] + \", cujos preços no momento da compra eram \" + precos_str[2] + \" e \" + precos_str[3] +\", respectivamente.\""
      ],
      "metadata": {
        "colab": {
          "base_uri": "https://localhost:8080/"
        },
        "id": "sLc97h-LCPyz",
        "outputId": "c1c983c3-dd40-4e8a-f3d0-7035bfca22bb"
      },
      "execution_count": null,
      "outputs": [
        {
          "output_type": "execute_result",
          "data": {
            "text/plain": [
              "'Hoje, eu comprei para a minha carteira, as ações WEGE3 e MGLU3, cujos preços no momento da compra eram 38.83 e 2.67, respectivamente.'"
            ],
            "application/vnd.google.colaboratory.intrinsic+json": {
              "type": "string"
            }
          },
          "metadata": {},
          "execution_count": 19
        }
      ]
    },
    {
      "cell_type": "code",
      "source": [
        "str(9)"
      ],
      "metadata": {
        "colab": {
          "base_uri": "https://localhost:8080/"
        },
        "id": "T-aHsgPCCUSR",
        "outputId": "652e7565-f769-4acd-ea23-e4d69bbbaf7b"
      },
      "execution_count": null,
      "outputs": [
        {
          "output_type": "execute_result",
          "data": {
            "text/plain": [
              "'9'"
            ],
            "application/vnd.google.colaboratory.intrinsic+json": {
              "type": "string"
            }
          },
          "metadata": {},
          "execution_count": 20
        }
      ]
    },
    {
      "cell_type": "markdown",
      "source": [
        "2. Utilizando a função str( ) para realizar a conversão dentro da própria operação de concatenação"
      ],
      "metadata": {
        "id": "kN3K6q-UC-53"
      }
    },
    {
      "cell_type": "code",
      "source": [
        "\"Hoje, eu comprei para a minha carteira, as ações \" + acoes[2] + \" e \" + acoes[3] + \", cujos preços no momento da compra eram \" + str(precos[2]) + \" e \" + str(precos[3]) +\", respectivamente.\""
      ],
      "metadata": {
        "colab": {
          "base_uri": "https://localhost:8080/"
        },
        "id": "sRl1X6RbCf5B",
        "outputId": "07ba8158-e1e8-4798-cdba-46df1b4f56d4"
      },
      "execution_count": null,
      "outputs": [
        {
          "output_type": "execute_result",
          "data": {
            "text/plain": [
              "'Hoje, eu comprei para a minha carteira, as ações WEGE3 e MGLU3, cujos preços no momento da compra eram 38.83 e 2.67, respectivamente.'"
            ],
            "application/vnd.google.colaboratory.intrinsic+json": {
              "type": "string"
            }
          },
          "metadata": {},
          "execution_count": 21
        }
      ]
    },
    {
      "cell_type": "markdown",
      "source": [
        "Propriedades das listas"
      ],
      "metadata": {
        "id": "0WaOfwc4CqhR"
      }
    },
    {
      "cell_type": "markdown",
      "source": [
        "As listas, ao contrário das strings, são mutáveis"
      ],
      "metadata": {
        "id": "aoMqSYADEP2I"
      }
    },
    {
      "cell_type": "code",
      "source": [
        "precos"
      ],
      "metadata": {
        "colab": {
          "base_uri": "https://localhost:8080/"
        },
        "id": "L-iCQVQNER_f",
        "outputId": "27cf3c1a-113c-4659-af62-91c7acec99cc"
      },
      "execution_count": null,
      "outputs": [
        {
          "output_type": "execute_result",
          "data": {
            "text/plain": [
              "[30.84, 23.45, 38.83, 2.67, 89.78]"
            ]
          },
          "metadata": {},
          "execution_count": 22
        }
      ]
    },
    {
      "cell_type": "code",
      "source": [
        "precos[3]"
      ],
      "metadata": {
        "colab": {
          "base_uri": "https://localhost:8080/"
        },
        "id": "cEUMCct5ETXX",
        "outputId": "93abf467-2678-4c4b-952d-26f824cedf91"
      },
      "execution_count": null,
      "outputs": [
        {
          "output_type": "execute_result",
          "data": {
            "text/plain": [
              "2.67"
            ]
          },
          "metadata": {},
          "execution_count": 23
        }
      ]
    },
    {
      "cell_type": "code",
      "source": [
        "precos[3] = '2.47'"
      ],
      "metadata": {
        "id": "FZZbrgxcEa6o"
      },
      "execution_count": null,
      "outputs": []
    },
    {
      "cell_type": "code",
      "source": [
        "precos[3]"
      ],
      "metadata": {
        "colab": {
          "base_uri": "https://localhost:8080/"
        },
        "id": "s5nWvNx4EemQ",
        "outputId": "c237e860-842d-4e68-dbb4-86cd18d62dfa"
      },
      "execution_count": null,
      "outputs": [
        {
          "output_type": "execute_result",
          "data": {
            "text/plain": [
              "'2.47'"
            ],
            "application/vnd.google.colaboratory.intrinsic+json": {
              "type": "string"
            }
          },
          "metadata": {},
          "execution_count": 25
        }
      ]
    },
    {
      "cell_type": "code",
      "source": [
        "\"Hoje, eu comprei para a minha carteira, as ações \" + acoes[2] + \" e \" + acoes[3] + \", cujos preços no momento da compra eram \" + str(precos[2]) + \" e \" + str(precos[3]) +\", respectivamente.\""
      ],
      "metadata": {
        "colab": {
          "base_uri": "https://localhost:8080/"
        },
        "id": "kwrjcyV7EfVJ",
        "outputId": "85870295-ff53-4330-805d-1859cb0718a5"
      },
      "execution_count": null,
      "outputs": [
        {
          "output_type": "execute_result",
          "data": {
            "text/plain": [
              "'Hoje, eu comprei para a minha carteira, as ações WEGE3 e MGLU3, cujos preços no momento da compra eram 38.83 e 2.47, respectivamente.'"
            ],
            "application/vnd.google.colaboratory.intrinsic+json": {
              "type": "string"
            }
          },
          "metadata": {},
          "execution_count": 26
        }
      ]
    },
    {
      "cell_type": "markdown",
      "source": [
        "As listas são também aditivas"
      ],
      "metadata": {
        "id": "h1rnfN_OEmNw"
      }
    },
    {
      "cell_type": "code",
      "source": [
        "acoes"
      ],
      "metadata": {
        "colab": {
          "base_uri": "https://localhost:8080/"
        },
        "id": "orzPbDr8EpQf",
        "outputId": "7a8976c6-1fc2-4d72-8aba-adf9bdbf5c55"
      },
      "execution_count": null,
      "outputs": [
        {
          "output_type": "execute_result",
          "data": {
            "text/plain": [
              "['VALE3', 'PETR4', 'WEGE3', 'MGLU3', 'ITUB4']"
            ]
          },
          "metadata": {},
          "execution_count": 27
        }
      ]
    },
    {
      "cell_type": "code",
      "source": [
        "novos_papeis = ['LREN3', 'PRIO3', 'BBDC4']"
      ],
      "metadata": {
        "id": "KgnyoYGIEtOn"
      },
      "execution_count": null,
      "outputs": []
    },
    {
      "cell_type": "code",
      "source": [
        "novos_papeis"
      ],
      "metadata": {
        "colab": {
          "base_uri": "https://localhost:8080/"
        },
        "id": "ygyenO4PE1kf",
        "outputId": "fbec8eed-9983-47ba-83d7-5a504b3448fe"
      },
      "execution_count": null,
      "outputs": [
        {
          "output_type": "execute_result",
          "data": {
            "text/plain": [
              "['LREN3', 'PRIO3', 'BBDC4']"
            ]
          },
          "metadata": {},
          "execution_count": 29
        }
      ]
    },
    {
      "cell_type": "code",
      "source": [
        "lista_total = acoes + novos_papeis"
      ],
      "metadata": {
        "id": "7bgNoRT6E3R4"
      },
      "execution_count": null,
      "outputs": []
    },
    {
      "cell_type": "code",
      "source": [
        "lista_total"
      ],
      "metadata": {
        "colab": {
          "base_uri": "https://localhost:8080/"
        },
        "id": "W8QvCsUcE6tQ",
        "outputId": "0abd19fa-f584-4aa1-f70d-252f4e391d05"
      },
      "execution_count": null,
      "outputs": [
        {
          "output_type": "execute_result",
          "data": {
            "text/plain": [
              "['VALE3', 'PETR4', 'WEGE3', 'MGLU3', 'ITUB4', 'LREN3', 'PRIO3', 'BBDC4']"
            ]
          },
          "metadata": {},
          "execution_count": 31
        }
      ]
    },
    {
      "cell_type": "code",
      "source": [
        "lista_total*2"
      ],
      "metadata": {
        "colab": {
          "base_uri": "https://localhost:8080/"
        },
        "id": "0WsqPDJiE7Vw",
        "outputId": "640db20f-183a-4e6d-a549-28ea31ab949b"
      },
      "execution_count": null,
      "outputs": [
        {
          "output_type": "execute_result",
          "data": {
            "text/plain": [
              "['VALE3',\n",
              " 'PETR4',\n",
              " 'WEGE3',\n",
              " 'MGLU3',\n",
              " 'ITUB4',\n",
              " 'LREN3',\n",
              " 'PRIO3',\n",
              " 'BBDC4',\n",
              " 'VALE3',\n",
              " 'PETR4',\n",
              " 'WEGE3',\n",
              " 'MGLU3',\n",
              " 'ITUB4',\n",
              " 'LREN3',\n",
              " 'PRIO3',\n",
              " 'BBDC4']"
            ]
          },
          "metadata": {},
          "execution_count": 32
        }
      ]
    },
    {
      "cell_type": "markdown",
      "source": [
        "Alguns métodos para a manipulação de listas"
      ],
      "metadata": {
        "id": "OWd6cxXNF1gv"
      }
    },
    {
      "cell_type": "markdown",
      "source": [
        "append()\n",
        "\n",
        "Este método adiciona novos elementos à lista."
      ],
      "metadata": {
        "id": "2NN7DawUF4LY"
      }
    },
    {
      "cell_type": "code",
      "source": [
        "type(lista_total)"
      ],
      "metadata": {
        "colab": {
          "base_uri": "https://localhost:8080/"
        },
        "id": "bLNfekc1Frp-",
        "outputId": "f836e2a0-c121-4c67-95dc-8a33f55b845f"
      },
      "execution_count": null,
      "outputs": [
        {
          "output_type": "execute_result",
          "data": {
            "text/plain": [
              "list"
            ]
          },
          "metadata": {},
          "execution_count": 33
        }
      ]
    },
    {
      "cell_type": "code",
      "source": [
        "lista_total.append('BBAS3')"
      ],
      "metadata": {
        "id": "8gFUktqdFH3o"
      },
      "execution_count": null,
      "outputs": []
    },
    {
      "cell_type": "code",
      "source": [
        "lista_total"
      ],
      "metadata": {
        "colab": {
          "base_uri": "https://localhost:8080/"
        },
        "id": "8pS5-JYJFnPW",
        "outputId": "5bad1055-57f4-4a13-fc86-13aab774ca74"
      },
      "execution_count": null,
      "outputs": [
        {
          "output_type": "execute_result",
          "data": {
            "text/plain": [
              "['VALE3',\n",
              " 'PETR4',\n",
              " 'WEGE3',\n",
              " 'MGLU3',\n",
              " 'ITUB4',\n",
              " 'LREN3',\n",
              " 'PRIO3',\n",
              " 'BBDC4',\n",
              " 'BBAS3']"
            ]
          },
          "metadata": {},
          "execution_count": 35
        }
      ]
    },
    {
      "cell_type": "code",
      "source": [
        "lista_total.append(17.89)"
      ],
      "metadata": {
        "id": "i1xJ9yG5FoCd"
      },
      "execution_count": null,
      "outputs": []
    },
    {
      "cell_type": "code",
      "source": [
        "lista_total"
      ],
      "metadata": {
        "colab": {
          "base_uri": "https://localhost:8080/"
        },
        "id": "4vNMJPF-GL6-",
        "outputId": "8a8fcc02-dd37-44dc-e626-1d35f008bf74"
      },
      "execution_count": null,
      "outputs": [
        {
          "output_type": "execute_result",
          "data": {
            "text/plain": [
              "['VALE3',\n",
              " 'PETR4',\n",
              " 'WEGE3',\n",
              " 'MGLU3',\n",
              " 'ITUB4',\n",
              " 'LREN3',\n",
              " 'PRIO3',\n",
              " 'BBDC4',\n",
              " 'BBAS3',\n",
              " 17.89]"
            ]
          },
          "metadata": {},
          "execution_count": 37
        }
      ]
    },
    {
      "cell_type": "markdown",
      "source": [
        "pop( )\n",
        "\n",
        "Este método remove o último item"
      ],
      "metadata": {
        "id": "A3meLCoxGMXW"
      }
    },
    {
      "cell_type": "code",
      "source": [
        "lista_total"
      ],
      "metadata": {
        "colab": {
          "base_uri": "https://localhost:8080/"
        },
        "id": "teCJZeb6GY32",
        "outputId": "ca16fe41-7c86-4a60-f82f-1cc4a0d00438"
      },
      "execution_count": null,
      "outputs": [
        {
          "output_type": "execute_result",
          "data": {
            "text/plain": [
              "['VALE3',\n",
              " 'PETR4',\n",
              " 'WEGE3',\n",
              " 'MGLU3',\n",
              " 'ITUB4',\n",
              " 'LREN3',\n",
              " 'PRIO3',\n",
              " 'BBDC4',\n",
              " 'BBAS3',\n",
              " 17.89]"
            ]
          },
          "metadata": {},
          "execution_count": 38
        }
      ]
    },
    {
      "cell_type": "code",
      "source": [
        "lista_total.pop()"
      ],
      "metadata": {
        "colab": {
          "base_uri": "https://localhost:8080/"
        },
        "id": "hM9LhiXDGb02",
        "outputId": "b1469a26-3cdf-4f65-c9e6-00881af55ce0"
      },
      "execution_count": null,
      "outputs": [
        {
          "output_type": "execute_result",
          "data": {
            "text/plain": [
              "17.89"
            ]
          },
          "metadata": {},
          "execution_count": 39
        }
      ]
    },
    {
      "cell_type": "code",
      "source": [
        "lista_total"
      ],
      "metadata": {
        "colab": {
          "base_uri": "https://localhost:8080/"
        },
        "id": "6iUdTThDGeKP",
        "outputId": "0bc9e9a3-e366-4379-e796-0d545b742962"
      },
      "execution_count": null,
      "outputs": [
        {
          "output_type": "execute_result",
          "data": {
            "text/plain": [
              "['VALE3',\n",
              " 'PETR4',\n",
              " 'WEGE3',\n",
              " 'MGLU3',\n",
              " 'ITUB4',\n",
              " 'LREN3',\n",
              " 'PRIO3',\n",
              " 'BBDC4',\n",
              " 'BBAS3']"
            ]
          },
          "metadata": {},
          "execution_count": 40
        }
      ]
    },
    {
      "cell_type": "code",
      "source": [
        "lista_total.pop()"
      ],
      "metadata": {
        "colab": {
          "base_uri": "https://localhost:8080/"
        },
        "id": "hDJE2e78GhUO",
        "outputId": "3bc9a792-cb1c-4ccd-b209-f1b13a259f35"
      },
      "execution_count": null,
      "outputs": [
        {
          "output_type": "execute_result",
          "data": {
            "text/plain": [
              "'BBAS3'"
            ],
            "application/vnd.google.colaboratory.intrinsic+json": {
              "type": "string"
            }
          },
          "metadata": {},
          "execution_count": 41
        }
      ]
    },
    {
      "cell_type": "code",
      "source": [
        "lista_total.pop()"
      ],
      "metadata": {
        "colab": {
          "base_uri": "https://localhost:8080/"
        },
        "id": "MRPfSgmvGjWX",
        "outputId": "43c093f5-39d3-41bb-e434-dba229389294"
      },
      "execution_count": null,
      "outputs": [
        {
          "output_type": "execute_result",
          "data": {
            "text/plain": [
              "'BBDC4'"
            ],
            "application/vnd.google.colaboratory.intrinsic+json": {
              "type": "string"
            }
          },
          "metadata": {},
          "execution_count": 42
        }
      ]
    },
    {
      "cell_type": "code",
      "source": [
        "lista_total.pop()"
      ],
      "metadata": {
        "colab": {
          "base_uri": "https://localhost:8080/"
        },
        "id": "vB9fLxqlGkLG",
        "outputId": "fbd8e3eb-626a-488f-c109-bb3fc8944588"
      },
      "execution_count": null,
      "outputs": [
        {
          "output_type": "execute_result",
          "data": {
            "text/plain": [
              "'PRIO3'"
            ],
            "application/vnd.google.colaboratory.intrinsic+json": {
              "type": "string"
            }
          },
          "metadata": {},
          "execution_count": 43
        }
      ]
    },
    {
      "cell_type": "code",
      "source": [
        "lista_total"
      ],
      "metadata": {
        "colab": {
          "base_uri": "https://localhost:8080/"
        },
        "id": "COpz8FUyGk8m",
        "outputId": "9d438e97-c4b5-4f5c-e3eb-0660434fa98f"
      },
      "execution_count": null,
      "outputs": [
        {
          "output_type": "execute_result",
          "data": {
            "text/plain": [
              "['VALE3', 'PETR4', 'WEGE3', 'MGLU3', 'ITUB4', 'LREN3']"
            ]
          },
          "metadata": {},
          "execution_count": 44
        }
      ]
    },
    {
      "cell_type": "markdown",
      "source": [
        "Vamos trabalhar com a ordem dos elementos que compõem a lista"
      ],
      "metadata": {
        "id": "f6w3IUK5Gl_H"
      }
    },
    {
      "cell_type": "markdown",
      "source": [
        "Método sort() classifica por ordem crescente"
      ],
      "metadata": {
        "id": "94Oz39KmHeK-"
      }
    },
    {
      "cell_type": "code",
      "source": [
        "precos"
      ],
      "metadata": {
        "colab": {
          "base_uri": "https://localhost:8080/"
        },
        "id": "rhVwkfkQHfdl",
        "outputId": "45f514dc-7c12-4e27-d725-e208a75380fd"
      },
      "execution_count": null,
      "outputs": [
        {
          "output_type": "execute_result",
          "data": {
            "text/plain": [
              "[30.84, 23.45, 38.83, '2.47', 89.78]"
            ]
          },
          "metadata": {},
          "execution_count": 45
        }
      ]
    },
    {
      "cell_type": "code",
      "source": [
        "precos.sort()"
      ],
      "metadata": {
        "colab": {
          "base_uri": "https://localhost:8080/"
        },
        "id": "aNKn0tG9HgGN",
        "outputId": "1ebb583f-f208-4267-ef28-5943bb514609"
      },
      "execution_count": null,
      "outputs": [
        {
          "output_type": "error",
          "ename": "TypeError",
          "evalue": "ignored",
          "traceback": [
            "\u001b[0;31m---------------------------------------------------------------------------\u001b[0m",
            "\u001b[0;31mTypeError\u001b[0m                                 Traceback (most recent call last)",
            "\u001b[0;32m<ipython-input-46-64d33d7ef0fd>\u001b[0m in \u001b[0;36m<module>\u001b[0;34m\u001b[0m\n\u001b[0;32m----> 1\u001b[0;31m \u001b[0mprecos\u001b[0m\u001b[0;34m.\u001b[0m\u001b[0msort\u001b[0m\u001b[0;34m(\u001b[0m\u001b[0;34m)\u001b[0m\u001b[0;34m\u001b[0m\u001b[0;34m\u001b[0m\u001b[0m\n\u001b[0m",
            "\u001b[0;31mTypeError\u001b[0m: '<' not supported between instances of 'str' and 'float'"
          ]
        }
      ]
    },
    {
      "cell_type": "code",
      "source": [
        "precos[3] = 2.47"
      ],
      "metadata": {
        "id": "Pbk2wtchHh1m"
      },
      "execution_count": null,
      "outputs": []
    },
    {
      "cell_type": "code",
      "source": [
        "precos.sort()"
      ],
      "metadata": {
        "id": "iQfYS7TRH33-"
      },
      "execution_count": null,
      "outputs": []
    },
    {
      "cell_type": "code",
      "source": [
        "precos"
      ],
      "metadata": {
        "colab": {
          "base_uri": "https://localhost:8080/"
        },
        "id": "FLUkz22cH5SO",
        "outputId": "37f8cc89-9ae0-4a7c-9b91-2b4cc96e46be"
      },
      "execution_count": null,
      "outputs": [
        {
          "output_type": "execute_result",
          "data": {
            "text/plain": [
              "[2.47, 23.45, 30.84, 38.83, 89.78]"
            ]
          },
          "metadata": {},
          "execution_count": 49
        }
      ]
    },
    {
      "cell_type": "markdown",
      "source": [
        "Para classificar em ordem descrescente, usamos o método reverse()"
      ],
      "metadata": {
        "id": "F8pVqUdGH6el"
      }
    },
    {
      "cell_type": "code",
      "source": [
        "precos.reverse()"
      ],
      "metadata": {
        "id": "mds0M1vwIAHh"
      },
      "execution_count": null,
      "outputs": []
    },
    {
      "cell_type": "code",
      "source": [
        "precos"
      ],
      "metadata": {
        "colab": {
          "base_uri": "https://localhost:8080/"
        },
        "id": "5S_wMqSxIC8O",
        "outputId": "f29410bb-3f42-45f3-cdcf-ee37f45025d3"
      },
      "execution_count": null,
      "outputs": [
        {
          "output_type": "execute_result",
          "data": {
            "text/plain": [
              "[89.78, 38.83, 30.84, 23.45, 2.47]"
            ]
          },
          "metadata": {},
          "execution_count": 51
        }
      ]
    },
    {
      "cell_type": "markdown",
      "source": [
        "Também podemos criar listas compostas de outras listas"
      ],
      "metadata": {
        "id": "pa7qUB3tIDdO"
      }
    },
    {
      "cell_type": "code",
      "source": [
        "cliente01 = ['PETR4', 'VALE3', 'ABEV3']\n",
        "cliente02 = ['GOAU4', 'MGLU3', 'LREN3']\n",
        "cliente03 = ['ITUB4', 'PRIO3', 'WEGE3']"
      ],
      "metadata": {
        "id": "aMOjtiHpIXRF"
      },
      "execution_count": null,
      "outputs": []
    },
    {
      "cell_type": "code",
      "source": [
        "clientes = [cliente01, cliente02, cliente03]"
      ],
      "metadata": {
        "id": "MYaLX4JaIYOl"
      },
      "execution_count": null,
      "outputs": []
    },
    {
      "cell_type": "code",
      "source": [
        "clientes"
      ],
      "metadata": {
        "colab": {
          "base_uri": "https://localhost:8080/"
        },
        "id": "Yhnors1jIf2m",
        "outputId": "d425f838-95d4-42dc-af92-07615af6fd5c"
      },
      "execution_count": null,
      "outputs": [
        {
          "output_type": "execute_result",
          "data": {
            "text/plain": [
              "[['PETR4', 'VALE3', 'ABEV3'],\n",
              " ['GOAU4', 'MGLU3', 'LREN3'],\n",
              " ['ITUB4', 'PRIO3', 'WEGE3']]"
            ]
          },
          "metadata": {},
          "execution_count": 54
        }
      ]
    },
    {
      "cell_type": "markdown",
      "source": [
        "Apenas para o cliente 01"
      ],
      "metadata": {
        "id": "5MD2KZfpIgmz"
      }
    },
    {
      "cell_type": "code",
      "source": [
        "clientes[0]"
      ],
      "metadata": {
        "colab": {
          "base_uri": "https://localhost:8080/"
        },
        "id": "WFKQNA9UIy5w",
        "outputId": "95dde5f4-82b7-4965-d53a-8cbf729d9cac"
      },
      "execution_count": null,
      "outputs": [
        {
          "output_type": "execute_result",
          "data": {
            "text/plain": [
              "['PETR4', 'VALE3', 'ABEV3']"
            ]
          },
          "metadata": {},
          "execution_count": 55
        }
      ]
    },
    {
      "cell_type": "markdown",
      "source": [
        "Para o cliente 02"
      ],
      "metadata": {
        "id": "mkR38zhII4cl"
      }
    },
    {
      "cell_type": "code",
      "source": [
        "clientes[1]"
      ],
      "metadata": {
        "colab": {
          "base_uri": "https://localhost:8080/"
        },
        "id": "B1Uao1idI6hn",
        "outputId": "c580399c-b3e5-432a-a421-674315b92e63"
      },
      "execution_count": null,
      "outputs": [
        {
          "output_type": "execute_result",
          "data": {
            "text/plain": [
              "['GOAU4', 'MGLU3', 'LREN3']"
            ]
          },
          "metadata": {},
          "execution_count": 56
        }
      ]
    },
    {
      "cell_type": "markdown",
      "source": [
        "Para o cliente 03"
      ],
      "metadata": {
        "id": "2V0n5LpNI7ul"
      }
    },
    {
      "cell_type": "code",
      "source": [
        "clientes[2]"
      ],
      "metadata": {
        "colab": {
          "base_uri": "https://localhost:8080/"
        },
        "id": "gLLwzBS9I89Z",
        "outputId": "c63c5e5b-1939-4b9c-8848-8156587f63e7"
      },
      "execution_count": null,
      "outputs": [
        {
          "output_type": "execute_result",
          "data": {
            "text/plain": [
              "['ITUB4', 'PRIO3', 'WEGE3']"
            ]
          },
          "metadata": {},
          "execution_count": 57
        }
      ]
    },
    {
      "cell_type": "markdown",
      "source": [
        "Qual é o segundo ativo investido pelo cliente 03?"
      ],
      "metadata": {
        "id": "vyHiyIKRI-D-"
      }
    },
    {
      "cell_type": "code",
      "source": [
        "clientes[2][1]"
      ],
      "metadata": {
        "colab": {
          "base_uri": "https://localhost:8080/"
        },
        "id": "HRIJjl4WJATx",
        "outputId": "263481f2-d0bd-4aa4-d9ab-39308b0ef2f4"
      },
      "execution_count": null,
      "outputs": [
        {
          "output_type": "execute_result",
          "data": {
            "text/plain": [
              "'PRIO3'"
            ],
            "application/vnd.google.colaboratory.intrinsic+json": {
              "type": "string"
            }
          },
          "metadata": {},
          "execution_count": 58
        }
      ]
    },
    {
      "cell_type": "markdown",
      "source": [
        "Se a gente quiser descobrir a primeira ação investida pelo cliente 01"
      ],
      "metadata": {
        "id": "M7gK7BNzJgc-"
      }
    },
    {
      "cell_type": "code",
      "source": [
        "clientes[0][0]"
      ],
      "metadata": {
        "colab": {
          "base_uri": "https://localhost:8080/"
        },
        "id": "W1Yc1trVJn8l",
        "outputId": "3bdd2949-f629-4c3f-c301-57b002b3c1d5"
      },
      "execution_count": null,
      "outputs": [
        {
          "output_type": "execute_result",
          "data": {
            "text/plain": [
              "'PETR4'"
            ],
            "application/vnd.google.colaboratory.intrinsic+json": {
              "type": "string"
            }
          },
          "metadata": {},
          "execution_count": 59
        }
      ]
    },
    {
      "cell_type": "markdown",
      "source": [
        "Operador 'in'"
      ],
      "metadata": {
        "id": "9fa4_OreJscV"
      }
    },
    {
      "cell_type": "code",
      "source": [
        "acoes"
      ],
      "metadata": {
        "colab": {
          "base_uri": "https://localhost:8080/"
        },
        "id": "6kwzBzijJ3vt",
        "outputId": "fe8a1166-c2e9-4dc7-9448-92533f858c41"
      },
      "execution_count": null,
      "outputs": [
        {
          "output_type": "execute_result",
          "data": {
            "text/plain": [
              "['VALE3', 'PETR4', 'WEGE3', 'MGLU3', 'ITUB4']"
            ]
          },
          "metadata": {},
          "execution_count": 60
        }
      ]
    },
    {
      "cell_type": "code",
      "source": [
        "'VALE3' in acoes"
      ],
      "metadata": {
        "colab": {
          "base_uri": "https://localhost:8080/"
        },
        "id": "JcRatlPXJ9nd",
        "outputId": "08d164f5-9eb0-43a3-fafd-2c70133ffaf8"
      },
      "execution_count": null,
      "outputs": [
        {
          "output_type": "execute_result",
          "data": {
            "text/plain": [
              "True"
            ]
          },
          "metadata": {},
          "execution_count": 61
        }
      ]
    },
    {
      "cell_type": "code",
      "source": [
        "'WEGE3' in acoes"
      ],
      "metadata": {
        "colab": {
          "base_uri": "https://localhost:8080/"
        },
        "id": "WsS_F7j5KI8c",
        "outputId": "3be4d2ab-07bc-4cf9-afd0-be551af2e6d5"
      },
      "execution_count": null,
      "outputs": [
        {
          "output_type": "execute_result",
          "data": {
            "text/plain": [
              "True"
            ]
          },
          "metadata": {},
          "execution_count": 62
        }
      ]
    },
    {
      "cell_type": "code",
      "source": [
        "'TAEE11' in acoes"
      ],
      "metadata": {
        "colab": {
          "base_uri": "https://localhost:8080/"
        },
        "id": "Y7zpXGo9KMY1",
        "outputId": "68980d14-d951-44d0-f1e0-d116efe06d8b"
      },
      "execution_count": null,
      "outputs": [
        {
          "output_type": "execute_result",
          "data": {
            "text/plain": [
              "False"
            ]
          },
          "metadata": {},
          "execution_count": 63
        }
      ]
    },
    {
      "cell_type": "markdown",
      "source": [
        "# 6. Dicionários"
      ],
      "metadata": {
        "id": "23aCxCyVKTaM"
      }
    },
    {
      "cell_type": "markdown",
      "source": [
        "Os dicionários representam uma estrutura de dados mais complexos que as listas, capazes de relacionar pares de dados (um dado que pode representar outro dado). Ao invés de colchetes, como as listas, são definidos pelas chaves. Em outras linguagens, poderia ser relacionado às \"arrays associativas\". A estrutura básica dos dicionários é \"{key: value}\""
      ],
      "metadata": {
        "id": "c9bveGOpELWI"
      }
    },
    {
      "cell_type": "code",
      "source": [
        "precos = {'PETR4':24.89,\n",
        " 'MGLU3':2.68, \n",
        " 'BBDC4':15.14} "
      ],
      "metadata": {
        "id": "9ALNA5O8EvHg"
      },
      "execution_count": null,
      "outputs": []
    },
    {
      "cell_type": "code",
      "source": [
        "precos"
      ],
      "metadata": {
        "colab": {
          "base_uri": "https://localhost:8080/"
        },
        "id": "O0OLJ0bcEjGB",
        "outputId": "cdb3a642-e6df-4b01-fea8-c8f7811d292f"
      },
      "execution_count": null,
      "outputs": [
        {
          "output_type": "execute_result",
          "data": {
            "text/plain": [
              "{'PETR4': 24.89, 'MGLU3': 2.68, 'BBDC4': 15.14}"
            ]
          },
          "metadata": {},
          "execution_count": 65
        }
      ]
    },
    {
      "cell_type": "code",
      "source": [
        "type(precos)"
      ],
      "metadata": {
        "colab": {
          "base_uri": "https://localhost:8080/"
        },
        "id": "yuOQ8XFwFaEI",
        "outputId": "251fe5d3-ecb3-40e2-d7c5-1d99d9889b40"
      },
      "execution_count": null,
      "outputs": [
        {
          "output_type": "execute_result",
          "data": {
            "text/plain": [
              "dict"
            ]
          },
          "metadata": {},
          "execution_count": 66
        }
      ]
    },
    {
      "cell_type": "markdown",
      "source": [
        "Vamos ver as chaves (keys) do dicionário"
      ],
      "metadata": {
        "id": "pQeOTVNNFcJZ"
      }
    },
    {
      "cell_type": "code",
      "source": [
        "precos.keys()"
      ],
      "metadata": {
        "colab": {
          "base_uri": "https://localhost:8080/"
        },
        "id": "i_Bqy1EIFsOY",
        "outputId": "c890aa41-aacb-4a44-888e-59f9cebca2a9"
      },
      "execution_count": null,
      "outputs": [
        {
          "output_type": "execute_result",
          "data": {
            "text/plain": [
              "dict_keys(['PETR4', 'MGLU3', 'BBDC4'])"
            ]
          },
          "metadata": {},
          "execution_count": 67
        }
      ]
    },
    {
      "cell_type": "code",
      "source": [
        "lista_papeis = list(precos.keys())"
      ],
      "metadata": {
        "id": "wQyJs43LGKbQ"
      },
      "execution_count": null,
      "outputs": []
    },
    {
      "cell_type": "code",
      "source": [
        "lista_papeis[0]"
      ],
      "metadata": {
        "colab": {
          "base_uri": "https://localhost:8080/"
        },
        "id": "Q-5yKxpUGSjR",
        "outputId": "b00dc458-6d66-43d9-f53e-3ffa870b7cdb"
      },
      "execution_count": null,
      "outputs": [
        {
          "output_type": "execute_result",
          "data": {
            "text/plain": [
              "'PETR4'"
            ],
            "application/vnd.google.colaboratory.intrinsic+json": {
              "type": "string"
            }
          },
          "metadata": {},
          "execution_count": 69
        }
      ]
    },
    {
      "cell_type": "markdown",
      "source": [
        "Podemos ver também os valores (values) do dicionário"
      ],
      "metadata": {
        "id": "xDS6mcLGGYho"
      }
    },
    {
      "cell_type": "code",
      "source": [
        "precos.values()"
      ],
      "metadata": {
        "colab": {
          "base_uri": "https://localhost:8080/"
        },
        "id": "pHHIqRyBGo8Z",
        "outputId": "27b64172-c9ec-4653-880a-7f3e36591e31"
      },
      "execution_count": null,
      "outputs": [
        {
          "output_type": "execute_result",
          "data": {
            "text/plain": [
              "dict_values([24.89, 2.68, 15.14])"
            ]
          },
          "metadata": {},
          "execution_count": 70
        }
      ]
    },
    {
      "cell_type": "markdown",
      "source": [
        "Quais são os pares que o dicionário carrega?"
      ],
      "metadata": {
        "id": "58Y6w0RrGreA"
      }
    },
    {
      "cell_type": "code",
      "source": [
        "precos.items()"
      ],
      "metadata": {
        "colab": {
          "base_uri": "https://localhost:8080/"
        },
        "id": "owllRUdLHDX7",
        "outputId": "d3eb088e-2198-4b8e-9017-b1f1f43d9f82"
      },
      "execution_count": null,
      "outputs": [
        {
          "output_type": "execute_result",
          "data": {
            "text/plain": [
              "dict_items([('PETR4', 24.89), ('MGLU3', 2.68), ('BBDC4', 15.14)])"
            ]
          },
          "metadata": {},
          "execution_count": 71
        }
      ]
    },
    {
      "cell_type": "code",
      "source": [
        "pares = list(precos.items())"
      ],
      "metadata": {
        "id": "y8cXO1JMHFRn"
      },
      "execution_count": null,
      "outputs": []
    },
    {
      "cell_type": "code",
      "source": [
        "pares"
      ],
      "metadata": {
        "colab": {
          "base_uri": "https://localhost:8080/"
        },
        "id": "Jb1RFJROHRzv",
        "outputId": "516580c6-ba97-4f5f-8639-077a23747a5c"
      },
      "execution_count": null,
      "outputs": [
        {
          "output_type": "execute_result",
          "data": {
            "text/plain": [
              "[('PETR4', 24.89), ('MGLU3', 2.68), ('BBDC4', 15.14)]"
            ]
          },
          "metadata": {},
          "execution_count": 73
        }
      ]
    },
    {
      "cell_type": "code",
      "source": [
        "pares[0]"
      ],
      "metadata": {
        "colab": {
          "base_uri": "https://localhost:8080/"
        },
        "id": "w_kWZqKRHSaH",
        "outputId": "d76f4c8b-6ef2-4fc5-861c-f203cbb327c4"
      },
      "execution_count": null,
      "outputs": [
        {
          "output_type": "execute_result",
          "data": {
            "text/plain": [
              "('PETR4', 24.89)"
            ]
          },
          "metadata": {},
          "execution_count": 74
        }
      ]
    },
    {
      "cell_type": "code",
      "source": [
        "pares[1]"
      ],
      "metadata": {
        "colab": {
          "base_uri": "https://localhost:8080/"
        },
        "id": "keSwUABKHYQA",
        "outputId": "57a1a425-2eb3-4919-9193-48d52f254c45"
      },
      "execution_count": null,
      "outputs": [
        {
          "output_type": "execute_result",
          "data": {
            "text/plain": [
              "('MGLU3', 2.68)"
            ]
          },
          "metadata": {},
          "execution_count": 75
        }
      ]
    },
    {
      "cell_type": "markdown",
      "source": [
        "Nos dicionários, nós realizamos filtros com o valor das próprias chaves"
      ],
      "metadata": {
        "id": "DEHmJd1cHZOY"
      }
    },
    {
      "cell_type": "code",
      "source": [
        "precos"
      ],
      "metadata": {
        "colab": {
          "base_uri": "https://localhost:8080/"
        },
        "id": "BS10szlhHz7P",
        "outputId": "e1581a88-8ac5-49f9-e638-734423fb786f"
      },
      "execution_count": null,
      "outputs": [
        {
          "output_type": "execute_result",
          "data": {
            "text/plain": [
              "{'PETR4': 24.89, 'MGLU3': 2.68, 'BBDC4': 15.14}"
            ]
          },
          "metadata": {},
          "execution_count": 76
        }
      ]
    },
    {
      "cell_type": "code",
      "source": [
        "precos['BBDC4']"
      ],
      "metadata": {
        "colab": {
          "base_uri": "https://localhost:8080/"
        },
        "id": "n_BfIYYtH5un",
        "outputId": "d98bf661-54ed-4d08-8c62-f8059eaa53c8"
      },
      "execution_count": null,
      "outputs": [
        {
          "output_type": "execute_result",
          "data": {
            "text/plain": [
              "15.14"
            ]
          },
          "metadata": {},
          "execution_count": 77
        }
      ]
    },
    {
      "cell_type": "code",
      "source": [
        "precos['MGLU3']"
      ],
      "metadata": {
        "colab": {
          "base_uri": "https://localhost:8080/"
        },
        "id": "Cm4xCzp2IA4X",
        "outputId": "a9793443-88c5-403f-cfa7-9ea058366468"
      },
      "execution_count": null,
      "outputs": [
        {
          "output_type": "execute_result",
          "data": {
            "text/plain": [
              "2.68"
            ]
          },
          "metadata": {},
          "execution_count": 78
        }
      ]
    },
    {
      "cell_type": "markdown",
      "source": [
        "Os dicionários também são bastante flexíveis com relação ao tipo de \"values\""
      ],
      "metadata": {
        "id": "AhX4s0wmIIXX"
      }
    },
    {
      "cell_type": "code",
      "source": [
        "aleatorio = {'PETR4': \"27.67\", 10: 'VALE3', 'WEGE3': [35.68, 37.89, 38.67]}"
      ],
      "metadata": {
        "id": "BUn9gUFUIaDI"
      },
      "execution_count": null,
      "outputs": []
    },
    {
      "cell_type": "code",
      "source": [
        "aleatorio"
      ],
      "metadata": {
        "colab": {
          "base_uri": "https://localhost:8080/"
        },
        "id": "r20obsydI2Eu",
        "outputId": "265dcde1-4700-40b1-9857-42fc53750513"
      },
      "execution_count": null,
      "outputs": [
        {
          "output_type": "execute_result",
          "data": {
            "text/plain": [
              "{'PETR4': '27.67', 10: 'VALE3', 'WEGE3': [35.68, 37.89, 38.67]}"
            ]
          },
          "metadata": {},
          "execution_count": 80
        }
      ]
    },
    {
      "cell_type": "code",
      "source": [
        "aleatorio[10]"
      ],
      "metadata": {
        "colab": {
          "base_uri": "https://localhost:8080/"
        },
        "id": "vluJx2YtI3JG",
        "outputId": "df4a56e8-c65f-48fb-957a-927ec6a084e2"
      },
      "execution_count": null,
      "outputs": [
        {
          "output_type": "execute_result",
          "data": {
            "text/plain": [
              "'VALE3'"
            ],
            "application/vnd.google.colaboratory.intrinsic+json": {
              "type": "string"
            }
          },
          "metadata": {},
          "execution_count": 81
        }
      ]
    },
    {
      "cell_type": "code",
      "source": [
        "aleatorio['PETR4']"
      ],
      "metadata": {
        "colab": {
          "base_uri": "https://localhost:8080/"
        },
        "id": "GUncRpP4I8NX",
        "outputId": "dfb631c7-e4c4-4d8e-b77f-339c008e2b6e"
      },
      "execution_count": null,
      "outputs": [
        {
          "output_type": "execute_result",
          "data": {
            "text/plain": [
              "'27.67'"
            ],
            "application/vnd.google.colaboratory.intrinsic+json": {
              "type": "string"
            }
          },
          "metadata": {},
          "execution_count": 82
        }
      ]
    },
    {
      "cell_type": "code",
      "source": [
        "aleatorio['WEGE3']"
      ],
      "metadata": {
        "colab": {
          "base_uri": "https://localhost:8080/"
        },
        "id": "KBScwHTSJG7E",
        "outputId": "61a172c0-a3dd-4e86-8363-b105f043e6a7"
      },
      "execution_count": null,
      "outputs": [
        {
          "output_type": "execute_result",
          "data": {
            "text/plain": [
              "[35.68, 37.89, 38.67]"
            ]
          },
          "metadata": {},
          "execution_count": 83
        }
      ]
    },
    {
      "cell_type": "markdown",
      "source": [
        "Propriedade da mutabilidade"
      ],
      "metadata": {
        "id": "xufxLWUxJK7P"
      }
    },
    {
      "cell_type": "code",
      "source": [
        "precos['WEGE3'] = 39.86"
      ],
      "metadata": {
        "id": "CeV2H7twJP3w"
      },
      "execution_count": null,
      "outputs": []
    },
    {
      "cell_type": "code",
      "source": [
        "precos"
      ],
      "metadata": {
        "colab": {
          "base_uri": "https://localhost:8080/"
        },
        "id": "K7V70n13JhAG",
        "outputId": "7911f342-2561-47fb-9a7e-b3d2bd40b6c3"
      },
      "execution_count": null,
      "outputs": [
        {
          "output_type": "execute_result",
          "data": {
            "text/plain": [
              "{'PETR4': 24.89, 'MGLU3': 2.68, 'BBDC4': 15.14, 'WEGE3': 39.86}"
            ]
          },
          "metadata": {},
          "execution_count": 85
        }
      ]
    },
    {
      "cell_type": "markdown",
      "source": [
        "Propriedade da adição"
      ],
      "metadata": {
        "id": "MsUiKg4jJhzO"
      }
    },
    {
      "cell_type": "code",
      "source": [
        "precos['PRIO3'] = 34.56"
      ],
      "metadata": {
        "id": "qBSPe8O7Jryg"
      },
      "execution_count": null,
      "outputs": []
    },
    {
      "cell_type": "code",
      "source": [
        "precos"
      ],
      "metadata": {
        "colab": {
          "base_uri": "https://localhost:8080/"
        },
        "id": "5DCxr4YiJu8W",
        "outputId": "49273ca9-912b-42b8-9be9-86efedae1c8e"
      },
      "execution_count": null,
      "outputs": [
        {
          "output_type": "execute_result",
          "data": {
            "text/plain": [
              "{'PETR4': 24.89, 'MGLU3': 2.68, 'BBDC4': 15.14, 'WEGE3': 39.86, 'PRIO3': 34.56}"
            ]
          },
          "metadata": {},
          "execution_count": 87
        }
      ]
    },
    {
      "cell_type": "markdown",
      "source": [
        "# 7. Tuplas"
      ],
      "metadata": {
        "id": "3lnqMfxGJvjG"
      }
    },
    {
      "cell_type": "markdown",
      "source": [
        "As tuplas são criadas utilizando parênteses. Indexação e slicing similares aos de strings e listas. Estão entre as estruturas de dados mais simples (ex., são imutáveis e nao permitem adições), porém com pouca flexibilidade."
      ],
      "metadata": {
        "id": "O-vBO5WDQUMq"
      }
    },
    {
      "cell_type": "code",
      "source": [
        "tupla = ()"
      ],
      "metadata": {
        "id": "Ta9id5XOQ2wO"
      },
      "execution_count": null,
      "outputs": []
    },
    {
      "cell_type": "code",
      "source": [
        "tupla"
      ],
      "metadata": {
        "colab": {
          "base_uri": "https://localhost:8080/"
        },
        "id": "cFwv1awIQ66o",
        "outputId": "a0fe03d8-6749-46f3-a32a-feab5ef7ad19"
      },
      "execution_count": null,
      "outputs": [
        {
          "output_type": "execute_result",
          "data": {
            "text/plain": [
              "()"
            ]
          },
          "metadata": {},
          "execution_count": 89
        }
      ]
    },
    {
      "cell_type": "code",
      "source": [
        "type(tupla)"
      ],
      "metadata": {
        "colab": {
          "base_uri": "https://localhost:8080/"
        },
        "id": "Uj38NBDyQ7kj",
        "outputId": "c62e5180-9b7e-4dfd-ea10-f2a2c0420918"
      },
      "execution_count": null,
      "outputs": [
        {
          "output_type": "execute_result",
          "data": {
            "text/plain": [
              "tuple"
            ]
          },
          "metadata": {},
          "execution_count": 90
        }
      ]
    },
    {
      "cell_type": "code",
      "source": [
        "lista = [1,2,3]"
      ],
      "metadata": {
        "id": "Bguyi4LoQ8n0"
      },
      "execution_count": null,
      "outputs": []
    },
    {
      "cell_type": "code",
      "source": [
        "type(lista)"
      ],
      "metadata": {
        "colab": {
          "base_uri": "https://localhost:8080/"
        },
        "id": "sKuYZUy2RHB2",
        "outputId": "72d7cde3-fd57-41ce-d2c4-44e5ffa973c5"
      },
      "execution_count": null,
      "outputs": [
        {
          "output_type": "execute_result",
          "data": {
            "text/plain": [
              "list"
            ]
          },
          "metadata": {},
          "execution_count": 92
        }
      ]
    },
    {
      "cell_type": "code",
      "source": [
        "tuple(lista)"
      ],
      "metadata": {
        "colab": {
          "base_uri": "https://localhost:8080/"
        },
        "id": "XG5yWw4XRIEf",
        "outputId": "8abe2f17-03cb-4011-fc02-ffafe6b9c96b"
      },
      "execution_count": null,
      "outputs": [
        {
          "output_type": "execute_result",
          "data": {
            "text/plain": [
              "(1, 2, 3)"
            ]
          },
          "metadata": {},
          "execution_count": 93
        }
      ]
    },
    {
      "cell_type": "code",
      "source": [
        "tupla_acoes = ('PETR4', 'MGLU3', 'VALE3')"
      ],
      "metadata": {
        "id": "J59AXySLRJ3V"
      },
      "execution_count": null,
      "outputs": []
    },
    {
      "cell_type": "markdown",
      "source": [
        "Nós conseguimos também fazer slicing e indexing"
      ],
      "metadata": {
        "id": "EGrMq2o7Rx8e"
      }
    },
    {
      "cell_type": "code",
      "source": [
        "tupla_acoes[0]"
      ],
      "metadata": {
        "colab": {
          "base_uri": "https://localhost:8080/",
          "height": 35
        },
        "id": "Cnm8A2PfRnP4",
        "outputId": "77d0c1ce-2fc1-4b1c-ca97-16a41945653c"
      },
      "execution_count": null,
      "outputs": [
        {
          "output_type": "execute_result",
          "data": {
            "text/plain": [
              "'PETR4'"
            ],
            "application/vnd.google.colaboratory.intrinsic+json": {
              "type": "string"
            }
          },
          "metadata": {},
          "execution_count": 96
        }
      ]
    },
    {
      "cell_type": "code",
      "source": [
        "tupla_acoes[1]"
      ],
      "metadata": {
        "colab": {
          "base_uri": "https://localhost:8080/",
          "height": 35
        },
        "id": "nrs3Z_pIRmNm",
        "outputId": "fa05e026-e635-4467-9b0f-c4989f268b3b"
      },
      "execution_count": null,
      "outputs": [
        {
          "output_type": "execute_result",
          "data": {
            "text/plain": [
              "'MGLU3'"
            ],
            "application/vnd.google.colaboratory.intrinsic+json": {
              "type": "string"
            }
          },
          "metadata": {},
          "execution_count": 97
        }
      ]
    },
    {
      "cell_type": "code",
      "source": [
        "len(tupla_acoes)"
      ],
      "metadata": {
        "colab": {
          "base_uri": "https://localhost:8080/"
        },
        "id": "7R132ZieRxi1",
        "outputId": "dd670329-82c7-4103-e37a-24c8293e15a3"
      },
      "execution_count": null,
      "outputs": [
        {
          "output_type": "execute_result",
          "data": {
            "text/plain": [
              "3"
            ]
          },
          "metadata": {},
          "execution_count": 98
        }
      ]
    },
    {
      "cell_type": "code",
      "source": [
        "tupla_acoes[0:2]"
      ],
      "metadata": {
        "colab": {
          "base_uri": "https://localhost:8080/"
        },
        "id": "b6C8oDcoSHrG",
        "outputId": "2452c0c5-1513-4e6c-bc3a-95187c16659e"
      },
      "execution_count": null,
      "outputs": [
        {
          "output_type": "execute_result",
          "data": {
            "text/plain": [
              "('PETR4', 'MGLU3')"
            ]
          },
          "metadata": {},
          "execution_count": 101
        }
      ]
    },
    {
      "cell_type": "markdown",
      "source": [
        "A tupla permite valores repetidos"
      ],
      "metadata": {
        "id": "ISV9UPUJR36g"
      }
    },
    {
      "cell_type": "code",
      "source": [
        "tupla01 = (1,1,1,1,1,1,1,1,2,3,4,5)"
      ],
      "metadata": {
        "id": "1fqriOECR9Oo"
      },
      "execution_count": null,
      "outputs": []
    },
    {
      "cell_type": "code",
      "source": [
        "tupla01"
      ],
      "metadata": {
        "colab": {
          "base_uri": "https://localhost:8080/"
        },
        "id": "16ItBOHzSAML",
        "outputId": "fe719374-4da6-4180-9193-f54c11e0b7a3"
      },
      "execution_count": null,
      "outputs": [
        {
          "output_type": "execute_result",
          "data": {
            "text/plain": [
              "(1, 1, 1, 1, 1, 1, 1, 1, 2, 3, 4, 5)"
            ]
          },
          "metadata": {},
          "execution_count": 3
        }
      ]
    },
    {
      "cell_type": "markdown",
      "source": [
        "Alguns outros métodos"
      ],
      "metadata": {
        "id": "sCtRNwYMSA-T"
      }
    },
    {
      "cell_type": "code",
      "source": [
        "tupla_ibov = ('RRRP3', 'ALPA4', 'ABEV3', 'AMER3', 'ARZZ3', 'ASAI3', 'AZUL4', 'B3SA3', 'BPAN4', 'BBSE3', 'BRML3', 'BBDC3', 'BBDC4', 'BRAP4', 'BBAS3', 'BRKM5', 'BRFS3')"
      ],
      "metadata": {
        "id": "eWQGBquzSXyw"
      },
      "execution_count": null,
      "outputs": []
    },
    {
      "cell_type": "code",
      "source": [
        "tupla_ibov.index('BPAN4')"
      ],
      "metadata": {
        "colab": {
          "base_uri": "https://localhost:8080/"
        },
        "id": "20ELadERTAgG",
        "outputId": "f46232f3-138e-40eb-87dc-7a69592f87ab"
      },
      "execution_count": null,
      "outputs": [
        {
          "output_type": "execute_result",
          "data": {
            "text/plain": [
              "8"
            ]
          },
          "metadata": {},
          "execution_count": 103
        }
      ]
    },
    {
      "cell_type": "code",
      "source": [
        "tupla_ibov.index('AZUL4')"
      ],
      "metadata": {
        "colab": {
          "base_uri": "https://localhost:8080/"
        },
        "id": "h8xpXo1qTLS8",
        "outputId": "b72ac32b-e1e2-4597-a727-8252ba7e22e7"
      },
      "execution_count": null,
      "outputs": [
        {
          "output_type": "execute_result",
          "data": {
            "text/plain": [
              "6"
            ]
          },
          "metadata": {},
          "execution_count": 104
        }
      ]
    },
    {
      "cell_type": "markdown",
      "source": [
        "Método para contar elementos (itens) iguais"
      ],
      "metadata": {
        "id": "pOInhyk2TP4n"
      }
    },
    {
      "cell_type": "code",
      "source": [
        "tupla_ibov.count('BBSE3')"
      ],
      "metadata": {
        "colab": {
          "base_uri": "https://localhost:8080/"
        },
        "id": "eatQt2iVTU1h",
        "outputId": "a85df81e-d511-4cc5-ee64-d27364c4690e"
      },
      "execution_count": null,
      "outputs": [
        {
          "output_type": "execute_result",
          "data": {
            "text/plain": [
              "1"
            ]
          },
          "metadata": {},
          "execution_count": 105
        }
      ]
    },
    {
      "cell_type": "markdown",
      "source": [
        "Imutabilidade"
      ],
      "metadata": {
        "id": "gB5G9X-hTeF0"
      }
    },
    {
      "cell_type": "code",
      "source": [
        "tupla_ibov[0]"
      ],
      "metadata": {
        "colab": {
          "base_uri": "https://localhost:8080/",
          "height": 35
        },
        "id": "PYVQRgNmTh7G",
        "outputId": "64c4d2d0-ceec-4152-ecea-b8be0b556ab0"
      },
      "execution_count": null,
      "outputs": [
        {
          "output_type": "execute_result",
          "data": {
            "text/plain": [
              "'RRRP3'"
            ],
            "application/vnd.google.colaboratory.intrinsic+json": {
              "type": "string"
            }
          },
          "metadata": {},
          "execution_count": 106
        }
      ]
    },
    {
      "cell_type": "markdown",
      "source": [
        "Este comando vai resultar em erro"
      ],
      "metadata": {
        "id": "Rkx9glC-Tzuy"
      }
    },
    {
      "cell_type": "code",
      "source": [
        "tupla_ibov[0] = 'LREN3'"
      ],
      "metadata": {
        "colab": {
          "base_uri": "https://localhost:8080/"
        },
        "id": "gUOTVMPVTmK2",
        "outputId": "31b6ae21-0c5f-4cfa-be7b-9ffc5e025948"
      },
      "execution_count": null,
      "outputs": [
        {
          "output_type": "error",
          "ename": "NameError",
          "evalue": "ignored",
          "traceback": [
            "\u001b[0;31m---------------------------------------------------------------------------\u001b[0m",
            "\u001b[0;31mNameError\u001b[0m                                 Traceback (most recent call last)",
            "\u001b[0;32m<ipython-input-1-46f90d3ca66d>\u001b[0m in \u001b[0;36m<module>\u001b[0;34m\u001b[0m\n\u001b[0;32m----> 1\u001b[0;31m \u001b[0mtupla_ibov\u001b[0m\u001b[0;34m[\u001b[0m\u001b[0;36m0\u001b[0m\u001b[0;34m]\u001b[0m \u001b[0;34m=\u001b[0m \u001b[0;34m'LREN3'\u001b[0m\u001b[0;34m\u001b[0m\u001b[0;34m\u001b[0m\u001b[0m\n\u001b[0m",
            "\u001b[0;31mNameError\u001b[0m: name 'tupla_ibov' is not defined"
          ]
        }
      ]
    },
    {
      "cell_type": "markdown",
      "source": [
        "# 8. Conjuntos"
      ],
      "metadata": {
        "id": "fOVJn5uxTsQc"
      }
    },
    {
      "cell_type": "markdown",
      "source": [
        "Um conjunto (set), assim como a tupla, é criado utilizando chaves ou parênteses com a função set( ). Não existe indexação ou slicing, ou seja, não seguem uma ordem (nesse caso mais similares aos dicionários). Permitem adições mas não permitem itens repetidos."
      ],
      "metadata": {
        "id": "8f_w2ygpEeIB"
      }
    },
    {
      "cell_type": "markdown",
      "source": [
        "Existem basicamente duas formas:\n",
        "\n",
        "1. Utilizando as chaves\n",
        "2. Utilizando a função set()"
      ],
      "metadata": {
        "id": "zVMJUkt4GT9z"
      }
    },
    {
      "cell_type": "code",
      "source": [
        "{1, 2, 3}"
      ],
      "metadata": {
        "colab": {
          "base_uri": "https://localhost:8080/"
        },
        "id": "BCNz9wxFG7uw",
        "outputId": "dedcf7a8-fc69-4717-d215-9bbc9b523762"
      },
      "execution_count": null,
      "outputs": [
        {
          "output_type": "execute_result",
          "data": {
            "text/plain": [
              "{1, 2, 3}"
            ]
          },
          "metadata": {},
          "execution_count": 8
        }
      ]
    },
    {
      "cell_type": "code",
      "source": [
        "type({1, 2, 3})"
      ],
      "metadata": {
        "colab": {
          "base_uri": "https://localhost:8080/"
        },
        "id": "pBFoRsRvGpaA",
        "outputId": "0672a0d0-3f9c-40d2-a4f8-f199b350e43b"
      },
      "execution_count": null,
      "outputs": [
        {
          "output_type": "execute_result",
          "data": {
            "text/plain": [
              "set"
            ]
          },
          "metadata": {},
          "execution_count": 7
        }
      ]
    },
    {
      "cell_type": "code",
      "source": [
        "set()"
      ],
      "metadata": {
        "colab": {
          "base_uri": "https://localhost:8080/"
        },
        "id": "gTMEj3yAGu5E",
        "outputId": "6246569e-5948-410e-dcb0-e6d624dca194"
      },
      "execution_count": null,
      "outputs": [
        {
          "output_type": "execute_result",
          "data": {
            "text/plain": [
              "set()"
            ]
          },
          "metadata": {},
          "execution_count": 9
        }
      ]
    },
    {
      "cell_type": "code",
      "source": [
        "set(1,2,3)"
      ],
      "metadata": {
        "colab": {
          "base_uri": "https://localhost:8080/",
          "height": 166
        },
        "id": "aUbEVkR0HC5I",
        "outputId": "21a53a84-fc29-4ee6-c56f-0809fc18b0e8"
      },
      "execution_count": null,
      "outputs": [
        {
          "output_type": "error",
          "ename": "TypeError",
          "evalue": "ignored",
          "traceback": [
            "\u001b[0;31m---------------------------------------------------------------------------\u001b[0m",
            "\u001b[0;31mTypeError\u001b[0m                                 Traceback (most recent call last)",
            "\u001b[0;32m<ipython-input-10-35c708cc93ca>\u001b[0m in \u001b[0;36m<module>\u001b[0;34m\u001b[0m\n\u001b[0;32m----> 1\u001b[0;31m \u001b[0mset\u001b[0m\u001b[0;34m(\u001b[0m\u001b[0;36m1\u001b[0m\u001b[0;34m,\u001b[0m\u001b[0;36m2\u001b[0m\u001b[0;34m,\u001b[0m\u001b[0;36m3\u001b[0m\u001b[0;34m)\u001b[0m\u001b[0;34m\u001b[0m\u001b[0;34m\u001b[0m\u001b[0m\n\u001b[0m",
            "\u001b[0;31mTypeError\u001b[0m: set expected at most 1 argument, got 3"
          ]
        }
      ]
    },
    {
      "cell_type": "code",
      "source": [
        "set([1,2,3])"
      ],
      "metadata": {
        "colab": {
          "base_uri": "https://localhost:8080/"
        },
        "id": "ZQNE5N9iHGKZ",
        "outputId": "9b4b807a-eb70-439a-fd34-1b5e4862b35a"
      },
      "execution_count": null,
      "outputs": [
        {
          "output_type": "execute_result",
          "data": {
            "text/plain": [
              "{1, 2, 3}"
            ]
          },
          "metadata": {},
          "execution_count": 11
        }
      ]
    },
    {
      "cell_type": "code",
      "source": [
        "tupla = (10,11,12)"
      ],
      "metadata": {
        "id": "udpOBapLHPOx"
      },
      "execution_count": null,
      "outputs": []
    },
    {
      "cell_type": "code",
      "source": [
        "conjunto1 = set(tupla)"
      ],
      "metadata": {
        "id": "2gb3Mz2lHXxx"
      },
      "execution_count": null,
      "outputs": []
    },
    {
      "cell_type": "code",
      "source": [
        "conjunto1"
      ],
      "metadata": {
        "colab": {
          "base_uri": "https://localhost:8080/"
        },
        "id": "KeYYuKhLHaRx",
        "outputId": "ef3bf567-ac94-446f-b561-1b7d48c808f1"
      },
      "execution_count": null,
      "outputs": [
        {
          "output_type": "execute_result",
          "data": {
            "text/plain": [
              "{10, 11, 12}"
            ]
          },
          "metadata": {},
          "execution_count": 14
        }
      ]
    },
    {
      "cell_type": "markdown",
      "source": [
        "Vamos usar um exemplo do MF"
      ],
      "metadata": {
        "id": "u0iXFd2KHbVY"
      }
    },
    {
      "cell_type": "code",
      "source": [
        "acoes = {'PETR4', 'PETR4', 'LREN3', 'MGLU3', 'WEGE3', 'PRIO3'}"
      ],
      "metadata": {
        "id": "PB3JlIawHk1q"
      },
      "execution_count": null,
      "outputs": []
    },
    {
      "cell_type": "code",
      "source": [
        "acoes"
      ],
      "metadata": {
        "colab": {
          "base_uri": "https://localhost:8080/"
        },
        "id": "fTqtk3GGHr6p",
        "outputId": "0b755550-6c74-4a56-c10f-fa92f3e7da70"
      },
      "execution_count": null,
      "outputs": [
        {
          "output_type": "execute_result",
          "data": {
            "text/plain": [
              "{'LREN3', 'MGLU3', 'PETR4', 'PRIO3', 'WEGE3'}"
            ]
          },
          "metadata": {},
          "execution_count": 16
        }
      ]
    },
    {
      "cell_type": "code",
      "source": [
        "tupla_inicial = (1,1,1,1,1,1,1,1,1,5,6,7)"
      ],
      "metadata": {
        "id": "nTZxRLT1Hsq5"
      },
      "execution_count": null,
      "outputs": []
    },
    {
      "cell_type": "code",
      "source": [
        "conjunto2 = set(tupla_inicial)"
      ],
      "metadata": {
        "id": "Po3pbULUH7O5"
      },
      "execution_count": null,
      "outputs": []
    },
    {
      "cell_type": "code",
      "source": [
        "conjunto2"
      ],
      "metadata": {
        "colab": {
          "base_uri": "https://localhost:8080/"
        },
        "id": "tciPcXzNIAN5",
        "outputId": "c33dacd0-61e3-4292-f168-cc2d00092689"
      },
      "execution_count": null,
      "outputs": [
        {
          "output_type": "execute_result",
          "data": {
            "text/plain": [
              "{1, 5, 6, 7}"
            ]
          },
          "metadata": {},
          "execution_count": 19
        }
      ]
    },
    {
      "cell_type": "markdown",
      "source": [
        "Métodos importantes"
      ],
      "metadata": {
        "id": "gJo_Im8HIA9E"
      }
    },
    {
      "cell_type": "markdown",
      "source": [
        "add( )"
      ],
      "metadata": {
        "id": "PerYxAnYIIqB"
      }
    },
    {
      "cell_type": "code",
      "source": [
        "conjunto2.add(2)"
      ],
      "metadata": {
        "id": "LU8hcVbgIKD5"
      },
      "execution_count": null,
      "outputs": []
    },
    {
      "cell_type": "code",
      "source": [
        "conjunto2"
      ],
      "metadata": {
        "colab": {
          "base_uri": "https://localhost:8080/"
        },
        "id": "qQ4hhA7mITsI",
        "outputId": "5a2fde79-619a-4f40-cd76-6c4515d95d44"
      },
      "execution_count": null,
      "outputs": [
        {
          "output_type": "execute_result",
          "data": {
            "text/plain": [
              "{1, 2, 5, 6, 7}"
            ]
          },
          "metadata": {},
          "execution_count": 21
        }
      ]
    },
    {
      "cell_type": "code",
      "source": [
        "conjunto2.add(3)\n",
        "conjunto2.add(4)\n",
        "conjunto2.add(4)\n",
        "conjunto2.add(4)\n",
        "conjunto2.add(4)\n",
        "conjunto2.add(4)\n",
        "conjunto2.add(4)\n",
        "conjunto2.add(4)\n",
        "conjunto2.add('VALE3')"
      ],
      "metadata": {
        "id": "F8dgD7LTIUSw"
      },
      "execution_count": null,
      "outputs": []
    },
    {
      "cell_type": "code",
      "source": [
        "conjunto2"
      ],
      "metadata": {
        "colab": {
          "base_uri": "https://localhost:8080/"
        },
        "id": "0HVOhalAIgeh",
        "outputId": "60e25e63-487d-4ce4-bf7a-b13f373f3da4"
      },
      "execution_count": null,
      "outputs": [
        {
          "output_type": "execute_result",
          "data": {
            "text/plain": [
              "{1, 2, 3, 4, 5, 6, 7, 'VALE3'}"
            ]
          },
          "metadata": {},
          "execution_count": 23
        }
      ]
    },
    {
      "cell_type": "markdown",
      "source": [
        "Retomar o nosso conjunto (set) de ações"
      ],
      "metadata": {
        "id": "lbiKXAOQIhrB"
      }
    },
    {
      "cell_type": "code",
      "source": [
        "acoes"
      ],
      "metadata": {
        "colab": {
          "base_uri": "https://localhost:8080/"
        },
        "id": "Z3t_PPMeIoSC",
        "outputId": "13db5daa-4fef-4b8a-8e77-fb76d24d3e08"
      },
      "execution_count": null,
      "outputs": [
        {
          "output_type": "execute_result",
          "data": {
            "text/plain": [
              "{'LREN3', 'MGLU3', 'PETR4', 'PRIO3', 'WEGE3'}"
            ]
          },
          "metadata": {},
          "execution_count": 24
        }
      ]
    },
    {
      "cell_type": "code",
      "source": [
        "acoes.add('VALE3')"
      ],
      "metadata": {
        "id": "SqD5a8gtIsUI"
      },
      "execution_count": null,
      "outputs": []
    },
    {
      "cell_type": "code",
      "source": [
        "acoes"
      ],
      "metadata": {
        "colab": {
          "base_uri": "https://localhost:8080/"
        },
        "id": "S4oFEXWVIxdA",
        "outputId": "91982874-909e-4ddb-e038-c41a848f9e8d"
      },
      "execution_count": null,
      "outputs": [
        {
          "output_type": "execute_result",
          "data": {
            "text/plain": [
              "{'LREN3', 'MGLU3', 'PETR4', 'PRIO3', 'VALE3', 'WEGE3'}"
            ]
          },
          "metadata": {},
          "execution_count": 27
        }
      ]
    },
    {
      "cell_type": "markdown",
      "source": [
        "Atualizar o set inteiro"
      ],
      "metadata": {
        "id": "XUKcoMglI3AQ"
      }
    },
    {
      "cell_type": "code",
      "source": [
        "acoes.update(['LREN3', 'MGLU3', 'PETR4', 'PRIO3', 'VALE3', 'WEGE3', 'ITUB4'])"
      ],
      "metadata": {
        "id": "uH9zecQaI_vw"
      },
      "execution_count": null,
      "outputs": []
    },
    {
      "cell_type": "code",
      "source": [
        "acoes"
      ],
      "metadata": {
        "colab": {
          "base_uri": "https://localhost:8080/"
        },
        "id": "46qOXNyhJOkg",
        "outputId": "c9547705-12ac-41f6-ef4c-817151ca3b8b"
      },
      "execution_count": null,
      "outputs": [
        {
          "output_type": "execute_result",
          "data": {
            "text/plain": [
              "{'ITUB4', 'LREN3', 'MGLU3', 'PETR4', 'PRIO3', 'VALE3', 'WEGE3'}"
            ]
          },
          "metadata": {},
          "execution_count": 29
        }
      ]
    },
    {
      "cell_type": "markdown",
      "source": [
        "Métodos discard e remove"
      ],
      "metadata": {
        "id": "FhdJ0-ZgJPKo"
      }
    },
    {
      "cell_type": "code",
      "source": [
        "acoes.discard('PRIO3')"
      ],
      "metadata": {
        "id": "MFXKM89uJY45"
      },
      "execution_count": null,
      "outputs": []
    },
    {
      "cell_type": "code",
      "source": [
        "acoes"
      ],
      "metadata": {
        "colab": {
          "base_uri": "https://localhost:8080/"
        },
        "id": "aP6dwii1Jc7A",
        "outputId": "93a987f4-d08f-445b-a227-6de2fa4cb3dd"
      },
      "execution_count": null,
      "outputs": [
        {
          "output_type": "execute_result",
          "data": {
            "text/plain": [
              "{'ITUB4', 'LREN3', 'MGLU3', 'PETR4', 'VALE3', 'WEGE3'}"
            ]
          },
          "metadata": {},
          "execution_count": 31
        }
      ]
    },
    {
      "cell_type": "code",
      "source": [
        "acoes.remove('MGLU3')"
      ],
      "metadata": {
        "id": "_xrLxn9tJd2A"
      },
      "execution_count": null,
      "outputs": []
    },
    {
      "cell_type": "code",
      "source": [
        "acoes"
      ],
      "metadata": {
        "colab": {
          "base_uri": "https://localhost:8080/"
        },
        "id": "VjgT6kP4Jjkx",
        "outputId": "2978eacf-a711-4438-d8a2-e5a842895055"
      },
      "execution_count": null,
      "outputs": [
        {
          "output_type": "execute_result",
          "data": {
            "text/plain": [
              "{'ITUB4', 'LREN3', 'PETR4', 'VALE3', 'WEGE3'}"
            ]
          },
          "metadata": {},
          "execution_count": 33
        }
      ]
    },
    {
      "cell_type": "markdown",
      "source": [
        "Diferença entre os dois métodos"
      ],
      "metadata": {
        "id": "6m1uxcx0J4kQ"
      }
    },
    {
      "cell_type": "code",
      "source": [
        "acoes.discard('PRIO3')"
      ],
      "metadata": {
        "id": "dLbOuLM_JkGJ"
      },
      "execution_count": null,
      "outputs": []
    },
    {
      "cell_type": "code",
      "source": [
        "acoes"
      ],
      "metadata": {
        "colab": {
          "base_uri": "https://localhost:8080/"
        },
        "id": "u0vzjnXDJ7jo",
        "outputId": "67d38087-4e22-4eda-ec02-668302f6419b"
      },
      "execution_count": null,
      "outputs": [
        {
          "output_type": "execute_result",
          "data": {
            "text/plain": [
              "{'ITUB4', 'LREN3', 'PETR4', 'VALE3', 'WEGE3'}"
            ]
          },
          "metadata": {},
          "execution_count": 35
        }
      ]
    },
    {
      "cell_type": "code",
      "source": [
        "acoes.remove('PRIO3')"
      ],
      "metadata": {
        "colab": {
          "base_uri": "https://localhost:8080/",
          "height": 166
        },
        "id": "1VTqIiV3J8UJ",
        "outputId": "ce2edb82-9803-4213-a78f-b1f494ec5c68"
      },
      "execution_count": null,
      "outputs": [
        {
          "output_type": "error",
          "ename": "KeyError",
          "evalue": "ignored",
          "traceback": [
            "\u001b[0;31m---------------------------------------------------------------------------\u001b[0m",
            "\u001b[0;31mKeyError\u001b[0m                                  Traceback (most recent call last)",
            "\u001b[0;32m<ipython-input-36-0e6321cdc55f>\u001b[0m in \u001b[0;36m<module>\u001b[0;34m\u001b[0m\n\u001b[0;32m----> 1\u001b[0;31m \u001b[0macoes\u001b[0m\u001b[0;34m.\u001b[0m\u001b[0mremove\u001b[0m\u001b[0;34m(\u001b[0m\u001b[0;34m'PRIO3'\u001b[0m\u001b[0;34m)\u001b[0m\u001b[0;34m\u001b[0m\u001b[0;34m\u001b[0m\u001b[0m\n\u001b[0m",
            "\u001b[0;31mKeyError\u001b[0m: 'PRIO3'"
          ]
        }
      ]
    },
    {
      "cell_type": "markdown",
      "source": [
        "Ou seja, o método 'remove' retorna erro com elementos que não existem no set()"
      ],
      "metadata": {
        "id": "lDiEgejHJ_4Z"
      }
    },
    {
      "cell_type": "markdown",
      "source": [
        "Comprimento do conjunto"
      ],
      "metadata": {
        "id": "AjYMuGioKHFh"
      }
    },
    {
      "cell_type": "code",
      "source": [
        "len(acoes)"
      ],
      "metadata": {
        "colab": {
          "base_uri": "https://localhost:8080/"
        },
        "id": "bd0US9S2KJw5",
        "outputId": "d7b1e616-4526-4a4a-bc8c-23a3f05d4138"
      },
      "execution_count": null,
      "outputs": [
        {
          "output_type": "execute_result",
          "data": {
            "text/plain": [
              "5"
            ]
          },
          "metadata": {},
          "execution_count": 37
        }
      ]
    },
    {
      "cell_type": "markdown",
      "source": [
        "Não são indexáveis"
      ],
      "metadata": {
        "id": "3BaKMPhwKLGo"
      }
    },
    {
      "cell_type": "markdown",
      "source": [
        "Este comando resultará em erro"
      ],
      "metadata": {
        "id": "I-AazsAuKPcB"
      }
    },
    {
      "cell_type": "code",
      "source": [
        "acoes[0]"
      ],
      "metadata": {
        "colab": {
          "base_uri": "https://localhost:8080/",
          "height": 166
        },
        "id": "kBHgrM36KQ0Q",
        "outputId": "16181265-8ec0-4cb2-a8d5-158746ab6cd2"
      },
      "execution_count": null,
      "outputs": [
        {
          "output_type": "error",
          "ename": "TypeError",
          "evalue": "ignored",
          "traceback": [
            "\u001b[0;31m---------------------------------------------------------------------------\u001b[0m",
            "\u001b[0;31mTypeError\u001b[0m                                 Traceback (most recent call last)",
            "\u001b[0;32m<ipython-input-38-22add8ff31f1>\u001b[0m in \u001b[0;36m<module>\u001b[0;34m\u001b[0m\n\u001b[0;32m----> 1\u001b[0;31m \u001b[0macoes\u001b[0m\u001b[0;34m[\u001b[0m\u001b[0;36m0\u001b[0m\u001b[0;34m]\u001b[0m\u001b[0;34m\u001b[0m\u001b[0;34m\u001b[0m\u001b[0m\n\u001b[0m",
            "\u001b[0;31mTypeError\u001b[0m: 'set' object is not subscriptable"
          ]
        }
      ]
    },
    {
      "cell_type": "markdown",
      "source": [
        "Aspectos importantes\n",
        "\n",
        "Se você utilizar uma string, cada letra vai virar um elemento no set"
      ],
      "metadata": {
        "id": "6RwQvVeeKRxg"
      }
    },
    {
      "cell_type": "code",
      "source": [
        "b3 = {'Bolsa de Valores'}"
      ],
      "metadata": {
        "id": "D7H5IgDiKf6I"
      },
      "execution_count": null,
      "outputs": []
    },
    {
      "cell_type": "code",
      "source": [
        "b3"
      ],
      "metadata": {
        "colab": {
          "base_uri": "https://localhost:8080/"
        },
        "id": "-LfGje29KiRo",
        "outputId": "50a41a49-f9c5-4822-8050-d131709a77e3"
      },
      "execution_count": null,
      "outputs": [
        {
          "output_type": "execute_result",
          "data": {
            "text/plain": [
              "{'Bolsa de Valores'}"
            ]
          },
          "metadata": {},
          "execution_count": 40
        }
      ]
    },
    {
      "cell_type": "code",
      "source": [
        "b3 = set('Bolsa de Valores')"
      ],
      "metadata": {
        "id": "blNXhD4aKi74"
      },
      "execution_count": null,
      "outputs": []
    },
    {
      "cell_type": "code",
      "source": [
        "b3"
      ],
      "metadata": {
        "colab": {
          "base_uri": "https://localhost:8080/"
        },
        "id": "MEhp97Y6Kocv",
        "outputId": "d63bb6d9-dedc-4968-c9a4-53bcad167a35"
      },
      "execution_count": null,
      "outputs": [
        {
          "output_type": "execute_result",
          "data": {
            "text/plain": [
              "{' ', 'B', 'V', 'a', 'd', 'e', 'l', 'o', 'r', 's'}"
            ]
          },
          "metadata": {},
          "execution_count": 42
        }
      ]
    },
    {
      "cell_type": "code",
      "source": [
        "b3 = set(('Bolsa de Valores'))"
      ],
      "metadata": {
        "id": "xTpsZXCYKpA_"
      },
      "execution_count": null,
      "outputs": []
    },
    {
      "cell_type": "code",
      "source": [
        "b3"
      ],
      "metadata": {
        "colab": {
          "base_uri": "https://localhost:8080/"
        },
        "id": "Z0DloxHeKyFw",
        "outputId": "dc57561e-c1aa-40db-e838-45c595b5f1e6"
      },
      "execution_count": null,
      "outputs": [
        {
          "output_type": "execute_result",
          "data": {
            "text/plain": [
              "{' ', 'B', 'V', 'a', 'd', 'e', 'l', 'o', 'r', 's'}"
            ]
          },
          "metadata": {},
          "execution_count": 44
        }
      ]
    },
    {
      "cell_type": "markdown",
      "source": [
        "Remoção de elementos aleatórios"
      ],
      "metadata": {
        "id": "hoOYxe3QKysH"
      }
    },
    {
      "cell_type": "code",
      "source": [
        "b3.pop()"
      ],
      "metadata": {
        "colab": {
          "base_uri": "https://localhost:8080/",
          "height": 35
        },
        "id": "QNLzJkzhK8v-",
        "outputId": "23af59bf-cce2-4b9b-9da6-dcf78c18301c"
      },
      "execution_count": null,
      "outputs": [
        {
          "output_type": "execute_result",
          "data": {
            "text/plain": [
              "'s'"
            ],
            "application/vnd.google.colaboratory.intrinsic+json": {
              "type": "string"
            }
          },
          "metadata": {},
          "execution_count": 45
        }
      ]
    },
    {
      "cell_type": "code",
      "source": [
        "b3"
      ],
      "metadata": {
        "colab": {
          "base_uri": "https://localhost:8080/"
        },
        "id": "H8Ud-ny1K--X",
        "outputId": "6a787bf9-0e41-49fe-bf1e-8a95cdd33fa2"
      },
      "execution_count": null,
      "outputs": [
        {
          "output_type": "execute_result",
          "data": {
            "text/plain": [
              "{' ', 'B', 'V', 'a', 'd', 'e', 'l', 'o', 'r'}"
            ]
          },
          "metadata": {},
          "execution_count": 46
        }
      ]
    },
    {
      "cell_type": "code",
      "source": [
        "b3.pop()"
      ],
      "metadata": {
        "colab": {
          "base_uri": "https://localhost:8080/",
          "height": 35
        },
        "id": "pzQgEFDNK_v_",
        "outputId": "593e16f9-3d62-4774-8bc9-dd75d22266a5"
      },
      "execution_count": null,
      "outputs": [
        {
          "output_type": "execute_result",
          "data": {
            "text/plain": [
              "'l'"
            ],
            "application/vnd.google.colaboratory.intrinsic+json": {
              "type": "string"
            }
          },
          "metadata": {},
          "execution_count": 47
        }
      ]
    },
    {
      "cell_type": "code",
      "source": [
        "b3"
      ],
      "metadata": {
        "colab": {
          "base_uri": "https://localhost:8080/"
        },
        "id": "TtXVX9wiLBr2",
        "outputId": "d31c3fbc-2f78-4cef-ad77-d0bab237e9b2"
      },
      "execution_count": null,
      "outputs": [
        {
          "output_type": "execute_result",
          "data": {
            "text/plain": [
              "{' ', 'B', 'V', 'a', 'd', 'e', 'o', 'r'}"
            ]
          },
          "metadata": {},
          "execution_count": 48
        }
      ]
    },
    {
      "cell_type": "markdown",
      "source": [
        "**Operações com conjuntos**"
      ],
      "metadata": {
        "id": "4WwnKelRLCRQ"
      }
    },
    {
      "cell_type": "markdown",
      "source": [
        "<center><img src = \"https://www.learnbyexample.org/wp-content/uploads/python/Python-Set-Operatioons.png\" width = \"500\">\n"
      ],
      "metadata": {
        "id": "Kcx6decaLJ3I"
      }
    },
    {
      "cell_type": "code",
      "source": [
        "novas_acoes = {'VALE3', 'AMER3', 'PETR4', 'WEGE3', 'GOAU4'}"
      ],
      "metadata": {
        "id": "LVrmWXOsLRgp"
      },
      "execution_count": null,
      "outputs": []
    },
    {
      "cell_type": "code",
      "source": [
        "acoes"
      ],
      "metadata": {
        "colab": {
          "base_uri": "https://localhost:8080/"
        },
        "id": "BpuGArjULcWv",
        "outputId": "a9ecbcae-e4ff-46e0-e992-e3e3a28991de"
      },
      "execution_count": null,
      "outputs": [
        {
          "output_type": "execute_result",
          "data": {
            "text/plain": [
              "{'ITUB4', 'LREN3', 'PETR4', 'VALE3', 'WEGE3'}"
            ]
          },
          "metadata": {},
          "execution_count": 50
        }
      ]
    },
    {
      "cell_type": "code",
      "source": [
        "print(acoes, novas_acoes)"
      ],
      "metadata": {
        "colab": {
          "base_uri": "https://localhost:8080/"
        },
        "id": "ZKXGNb8GLezR",
        "outputId": "fb565ce1-ade0-47f9-c18d-798fbe02e376"
      },
      "execution_count": null,
      "outputs": [
        {
          "output_type": "stream",
          "name": "stdout",
          "text": [
            "{'PETR4', 'WEGE3', 'VALE3', 'ITUB4', 'LREN3'} {'PETR4', 'WEGE3', 'AMER3', 'VALE3', 'GOAU4'}\n"
          ]
        }
      ]
    },
    {
      "cell_type": "code",
      "source": [
        "acoes | novas_acoes"
      ],
      "metadata": {
        "colab": {
          "base_uri": "https://localhost:8080/"
        },
        "id": "0_b6PGK5Lm0A",
        "outputId": "121b7abc-0c8f-413e-e88e-a624a33bfcef"
      },
      "execution_count": null,
      "outputs": [
        {
          "output_type": "execute_result",
          "data": {
            "text/plain": [
              "{'AMER3', 'GOAU4', 'ITUB4', 'LREN3', 'PETR4', 'VALE3', 'WEGE3'}"
            ]
          },
          "metadata": {},
          "execution_count": 52
        }
      ]
    },
    {
      "cell_type": "code",
      "source": [
        "acoes & novas_acoes"
      ],
      "metadata": {
        "colab": {
          "base_uri": "https://localhost:8080/"
        },
        "id": "lWWqCsbnL15Y",
        "outputId": "e2d3f64c-1019-40ee-e124-ed66f02efbbd"
      },
      "execution_count": null,
      "outputs": [
        {
          "output_type": "execute_result",
          "data": {
            "text/plain": [
              "{'PETR4', 'VALE3', 'WEGE3'}"
            ]
          },
          "metadata": {},
          "execution_count": 53
        }
      ]
    },
    {
      "cell_type": "markdown",
      "source": [
        "Intersection"
      ],
      "metadata": {
        "id": "t5P6IDB7L-Un"
      }
    },
    {
      "cell_type": "code",
      "source": [
        "acoes.intersection()"
      ],
      "metadata": {
        "colab": {
          "base_uri": "https://localhost:8080/"
        },
        "id": "HecJmFPGMHtA",
        "outputId": "57a05ef9-31ff-48b3-e97f-2da45844a4d2"
      },
      "execution_count": null,
      "outputs": [
        {
          "output_type": "execute_result",
          "data": {
            "text/plain": [
              "{'ITUB4', 'LREN3', 'PETR4', 'VALE3', 'WEGE3'}"
            ]
          },
          "metadata": {},
          "execution_count": 54
        }
      ]
    },
    {
      "cell_type": "code",
      "source": [
        "acoes.intersection(novas_acoes)"
      ],
      "metadata": {
        "colab": {
          "base_uri": "https://localhost:8080/"
        },
        "id": "FbnoFWRWMQ9H",
        "outputId": "a1a5a1ad-53bb-4a9c-ccd2-57a1b77e643e"
      },
      "execution_count": null,
      "outputs": [
        {
          "output_type": "execute_result",
          "data": {
            "text/plain": [
              "{'PETR4', 'VALE3', 'WEGE3'}"
            ]
          },
          "metadata": {},
          "execution_count": 55
        }
      ]
    },
    {
      "cell_type": "code",
      "source": [
        "novas_acoes.intersection(acoes)"
      ],
      "metadata": {
        "colab": {
          "base_uri": "https://localhost:8080/"
        },
        "id": "mZp8AH10MaIf",
        "outputId": "d02b3500-e9e4-4570-97a9-07690e8e67a1"
      },
      "execution_count": null,
      "outputs": [
        {
          "output_type": "execute_result",
          "data": {
            "text/plain": [
              "{'PETR4', 'VALE3', 'WEGE3'}"
            ]
          },
          "metadata": {},
          "execution_count": 56
        }
      ]
    },
    {
      "cell_type": "markdown",
      "source": [
        "Difference"
      ],
      "metadata": {
        "id": "JeeGiecXMgu_"
      }
    },
    {
      "cell_type": "code",
      "source": [
        "acoes.difference(novas_acoes)"
      ],
      "metadata": {
        "colab": {
          "base_uri": "https://localhost:8080/"
        },
        "id": "WcGOH94ZMlzw",
        "outputId": "97d619f5-e953-4fef-a99d-6035de70fee7"
      },
      "execution_count": null,
      "outputs": [
        {
          "output_type": "execute_result",
          "data": {
            "text/plain": [
              "{'ITUB4', 'LREN3'}"
            ]
          },
          "metadata": {},
          "execution_count": 57
        }
      ]
    },
    {
      "cell_type": "code",
      "source": [
        "novas_acoes.difference(acoes)"
      ],
      "metadata": {
        "colab": {
          "base_uri": "https://localhost:8080/"
        },
        "id": "8e_j8QFvMrXf",
        "outputId": "e7c96875-99d2-4558-a5f3-d79f9284c8a8"
      },
      "execution_count": null,
      "outputs": [
        {
          "output_type": "execute_result",
          "data": {
            "text/plain": [
              "{'AMER3', 'GOAU4'}"
            ]
          },
          "metadata": {},
          "execution_count": 58
        }
      ]
    },
    {
      "cell_type": "markdown",
      "source": [
        "Symmetric Difference"
      ],
      "metadata": {
        "id": "Q_wVmJwKMx_f"
      }
    },
    {
      "cell_type": "code",
      "source": [
        "acoes.symmetric_difference(novas_acoes)"
      ],
      "metadata": {
        "colab": {
          "base_uri": "https://localhost:8080/"
        },
        "id": "pKgr8UCkM3VX",
        "outputId": "d0b72c69-09a2-4ec8-a3b6-797ea5dc448f"
      },
      "execution_count": null,
      "outputs": [
        {
          "output_type": "execute_result",
          "data": {
            "text/plain": [
              "{'AMER3', 'GOAU4', 'ITUB4', 'LREN3'}"
            ]
          },
          "metadata": {},
          "execution_count": 59
        }
      ]
    },
    {
      "cell_type": "code",
      "source": [
        "novas_acoes.symmetric_difference(acoes)"
      ],
      "metadata": {
        "colab": {
          "base_uri": "https://localhost:8080/"
        },
        "id": "7Go3LmP5M72B",
        "outputId": "aa3e8995-4265-4a78-fa5b-fa66397bf664"
      },
      "execution_count": null,
      "outputs": [
        {
          "output_type": "execute_result",
          "data": {
            "text/plain": [
              "{'AMER3', 'GOAU4', 'ITUB4', 'LREN3'}"
            ]
          },
          "metadata": {},
          "execution_count": 60
        }
      ]
    },
    {
      "cell_type": "markdown",
      "source": [
        "Verificações lógicas"
      ],
      "metadata": {
        "id": "9kR1nBh0NCan"
      }
    },
    {
      "cell_type": "code",
      "source": [
        "'NTCO3' in acoes"
      ],
      "metadata": {
        "colab": {
          "base_uri": "https://localhost:8080/"
        },
        "id": "jCKIkkSONGwY",
        "outputId": "8e2b4d15-e813-44cd-f8e1-524e6fb8cf1d"
      },
      "execution_count": null,
      "outputs": [
        {
          "output_type": "execute_result",
          "data": {
            "text/plain": [
              "False"
            ]
          },
          "metadata": {},
          "execution_count": 61
        }
      ]
    },
    {
      "cell_type": "code",
      "source": [
        "'NTCO3' in novas_acoes"
      ],
      "metadata": {
        "id": "dA7kthH3NLa_",
        "outputId": "1edcf1d0-f7d6-4bd2-ffec-fea1ac7cb1c4",
        "colab": {
          "base_uri": "https://localhost:8080/"
        }
      },
      "execution_count": null,
      "outputs": [
        {
          "output_type": "execute_result",
          "data": {
            "text/plain": [
              "False"
            ]
          },
          "metadata": {},
          "execution_count": 62
        }
      ]
    },
    {
      "cell_type": "code",
      "source": [],
      "metadata": {
        "id": "0vQ28sneNNz_"
      },
      "execution_count": null,
      "outputs": []
    }
  ]
}